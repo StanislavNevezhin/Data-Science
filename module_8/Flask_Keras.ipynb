{
  "nbformat": 4,
  "nbformat_minor": 0,
  "metadata": {
    "colab": {
      "name": "Flask_Keras.ipynb",
      "private_outputs": true,
      "provenance": [],
      "collapsed_sections": [],
      "toc_visible": true
    },
    "kernelspec": {
      "name": "python3",
      "display_name": "Python 3"
    }
  },
  "cells": [
    {
      "cell_type": "markdown",
      "metadata": {
        "id": "TKtzBKdT7QxC"
      },
      "source": [
        "#Building a simple Keras + deep learning REST API\n",
        "\n",
        "In this tutorial, we will present a simple method to take a Keras model and deploy it as a REST API.\n",
        "\n",
        "The examples covered in this post will serve as a template/starting point for building your own deep learning APIs — you will be able to extend the code and customize it based on how scalable and robust your API endpoint needs to be.\n",
        "\n",
        "Specifically, we will learn:\n",
        "\n",
        "How to (and how not to) load a Keras model into memory so it can be efficiently used for inference\n",
        "How to use the Flask web framework to create an endpoint for our API\n",
        "How to make predictions using our model, JSON-ify them, and return the results to the client\n",
        "How to call our Keras REST API using both cURL and Python\n",
        "By the end of this tutorial you'll have a good understanding of the components (in their simplest form) that go into a creating Keras REST API.\n",
        "\n",
        "Feel free to use the code presented in this guide as a starting point for your own deep learning REST API."
      ]
    },
    {
      "cell_type": "markdown",
      "metadata": {
        "id": "aACBD4pY7Zu4"
      },
      "source": [
        "#Configuring your development environment\n",
        "\n",
        "We'll be making the assumption that Keras is already configured and installed on your machine. If not, please ensure you install Keras using the official install instructions.\n",
        "\n",
        "From there, we'll need to install Flask (and its associated dependencies), a Python web framework, so we can build our API endpoint. We'll also need requests so we can consume our API as well.\n",
        "\n",
        "The relevant pip install commands are listed below:"
      ]
    },
    {
      "cell_type": "code",
      "metadata": {
        "id": "KQIgqCZz7F7G"
      },
      "source": [
        "!pip install flask gevent requests pillow"
      ],
      "execution_count": null,
      "outputs": []
    },
    {
      "cell_type": "code",
      "metadata": {
        "id": "dcjqL5bT5WbG"
      },
      "source": [
        "from google.colab import drive\n",
        "drive.mount('/content/drive')"
      ],
      "execution_count": null,
      "outputs": []
    },
    {
      "cell_type": "markdown",
      "metadata": {
        "id": "khspeLvo8HjD"
      },
      "source": [
        "#CREATE A Procfile : Create a file with name Procfile and paste content below line in it into it\n",
        "\n",
        "\n",
        "\n",
        "web: gunicorn app:app"
      ]
    },
    {
      "cell_type": "code",
      "metadata": {
        "id": "wEQXcMHWC8IJ"
      },
      "source": [
        "procfile = 'web: gunicorn app:app'\n",
        "procfiles= open(\"/content/Procfile\",\"w\")\n",
        "procfiles.write(procfile)\n",
        "procfiles.close()"
      ],
      "execution_count": null,
      "outputs": []
    },
    {
      "cell_type": "markdown",
      "metadata": {
        "id": "Atj2zKWg8B26"
      },
      "source": [
        "#INSTALL FLASK AND NGROK"
      ]
    },
    {
      "cell_type": "code",
      "metadata": {
        "id": "2x9zzwu78DiS"
      },
      "source": [
        "!pip install flask-ngrok\n",
        "from flask_ngrok import run_with_ngrok\n",
        "from flask import Flask"
      ],
      "execution_count": null,
      "outputs": []
    },
    {
      "cell_type": "markdown",
      "metadata": {
        "id": "6yLwdO2KJyeN"
      },
      "source": [
        "#Build front end"
      ]
    },
    {
      "cell_type": "code",
      "metadata": {
        "id": "wj20YhHlJ0c9"
      },
      "source": [
        "a = '''\n",
        "<!doctype html>\n",
        "<html lang=\"en\">\n",
        "<head>\n",
        "  <meta charset=\"UTF-8\">\n",
        "  <meta name=\"viewport\" content=\"width=device-width, initial-scale=1\">\n",
        "<link rel=\"stylesheet\" href=\"https://maxcdn.bootstrapcdn.com/bootstrap/3.3.7/css/bootstrap.min.css\">\n",
        "<script src=\"https://ajax.googleapis.com/ajax/libs/jquery/3.1.1/jquery.min.js\" type=\"text/javascript\"></script>\n",
        "<script src=\"https://maxcdn.bootstrapcdn.com/bootstrap/3.3.7/js/bootstrap.min.js\" type=\"text/javascript\"></script>\n",
        "  <title>Image Recognition Server</title>\n",
        "  <body class style=\"margin:10px;padding:10px\">\n",
        "    <div class=\"page-header\" id=\"banner\">\n",
        "      <div class=\"row\">\n",
        "        <div class=\"col-lg-8 col-md-7 col-sm-6\">\n",
        "          <h3>Image Recognition Server</h3>\n",
        "          <p class=\"lead\">Upload the image and find out what an animal is located on it?</p>\n",
        "        </div>\n",
        "      </div>\n",
        "      <form action=\"\" method=post enctype=multipart/form-data>\n",
        "        <input type=file name=file>\n",
        "        <input type=submit value=Upload>\n",
        "    </form>\n",
        "    </div>\n",
        "    <p style=\"margin-bottom:2cm;\"></p>\n",
        "    <div class=\"row\">\n",
        "        <div class=\"col-lg-4\">\n",
        "          <div class=\"page-header\">\n",
        "            <h3 id=\"tables\">Result</h3>\n",
        "          </div>\n",
        "          <div class=\"bs-component\">\n",
        "            <table class=\"table table-hover\">\n",
        "                <tr class=\"table-active\">\n",
        "                 \n",
        "                  <th scope=\"col\">Predict</th>\n",
        "                </tr>\n",
        "                <tr>\n",
        "                         <td> {{label}} </td>\n",
        "                  </tr>\n",
        "            </table> \n",
        "        </div>\n",
        "      </div>\n",
        "  </body>\n",
        "  '''"
      ],
      "execution_count": null,
      "outputs": []
    },
    {
      "cell_type": "markdown",
      "metadata": {
        "id": "B8HtmLB4CzX6"
      },
      "source": [
        "#Build directory structure"
      ]
    },
    {
      "cell_type": "code",
      "metadata": {
        "id": "UKwLSHvH3j-M"
      },
      "source": [
        "!mkdir '/content/templates'\n",
        "!mkdir '/content/uploads'"
      ],
      "execution_count": null,
      "outputs": []
    },
    {
      "cell_type": "code",
      "metadata": {
        "id": "RJC9AprzCHfa"
      },
      "source": [
        "Html_file= open(\"/content/templates/index.html\",\"w\")\n",
        "Html_file.write(a)\n",
        "Html_file.close()"
      ],
      "execution_count": null,
      "outputs": []
    },
    {
      "cell_type": "markdown",
      "metadata": {
        "id": "Ks7pVAX-7lcg"
      },
      "source": [
        "#Building your Keras REST API\n",
        "\n",
        "Our Keras REST API is self-contained in a single file named run_keras_server.py. We kept the installation in a single file as a manner of simplicity — the implementation can be easily modularized as well.\n",
        "\n",
        "Inside run_keras_server.py you'll find three functions, namely:\n",
        "\n",
        "1. load_model: Used to load our trained Keras model and prepare it for inference.\n",
        "2. prepare_image: This function preprocesses an input image prior to passing it through our network for prediction. If you are not working with image data you may want to consider changing the name to a more generic prepare_datapoint and applying any scaling/normalization you may need.\n",
        "3. predict: The actual endpoint of our API that will classify the incoming data from the request and return the results to the client."
      ]
    },
    {
      "cell_type": "code",
      "metadata": {
        "id": "p2_x5fVdVR8r"
      },
      "source": [
        "!pip install -U efficientnet"
      ],
      "execution_count": null,
      "outputs": []
    },
    {
      "cell_type": "code",
      "metadata": {
        "id": "XkTGnccX7czH"
      },
      "source": [
        "import os\n",
        "from flask import Flask, jsonify, request, redirect, url_for, send_from_directory, render_template\n",
        "from tensorflow import keras\n",
        "from keras.preprocessing.image import ImageDataGenerator, load_img, img_to_array\n",
        "from keras.models import Sequential, load_model\n",
        "from werkzeug.utils import secure_filename\n",
        "import numpy as np\n",
        "# from keras.applications import VGG16\n",
        "# from keras.applications.vgg16 import preprocess_input, decode_predictions\n",
        "# from keras.applications.vgg16 import VGG16\n",
        "from tensorflow.keras.applications import EfficientNetB7\n",
        "from keras.preprocessing import image\n",
        "\n",
        "ALLOWED_EXTENSIONS = set(['jpg', 'jpeg', 'png'])\n",
        "IMAGE_SIZE = (640, 640)\n",
        "UPLOAD_FOLDER = 'uploads'\n",
        "model = None\n",
        "app = Flask(__name__)\n",
        "run_with_ngrok(app)\n",
        "UPLOAD_FOLDER = 'uploads'\n",
        "app.config['UPLOAD_FOLDER'] = UPLOAD_FOLDER\n",
        "\n",
        "class_names = [\n",
        "  'Приора', #0\n",
        "  'Ford Focus', #1\n",
        "  'Самара', #2\n",
        "  'ВАЗ-2110', #3\n",
        "  'Жигули', #4\n",
        "  'Нива', #5\n",
        "  'Калина', #6\n",
        "  'ВАЗ-2109', #7\n",
        "  'Volkswagen Passat', #8\n",
        "  'ВАЗ-21099' #9\n",
        "]\n",
        "\n",
        "def load_model():\n",
        "\t\t# load the pre-trained Keras model (here we are using a model\n",
        "    # pre-trained on ImageNet and provided by Keras, but you can\n",
        "    # substitute in your own networks just as easily)\n",
        "    global model\n",
        "    # model = VGG16(weights=\"imagenet\")\n",
        "    model = keras.models.load_model('/content/drive/MyDrive/Colab Notebooks/deep learning/best_model_en_512_2_3.hdf5')\n",
        "\n",
        "def allowed_file(filename):\n",
        "    return '.' in filename and filename.rsplit('.', 1)[1] in ALLOWED_EXTENSIONS\n",
        "\n",
        "def predict(file):\n",
        "    img  = image.load_img(file, target_size=IMAGE_SIZE)\n",
        "    img = np.array(img)\n",
        "    prediction = model.predict(img[np.newaxis, ...]/255)[0].argmax()\n",
        "    print(prediction)\n",
        "    return class_names[prediction]\n",
        "    \n",
        "    # img  = image.load_img(file, target_size=IMAGE_SIZE)\n",
        "    # img = img_to_array(img)\n",
        "    # img = np.expand_dims(img, axis=0)\n",
        "    # img = preprocess_input(img)\n",
        "    # probs = model.predict(img)\n",
        "    # print(probs)\n",
        "    # print(probs.argmax(axis=-1))\n",
        "    # probs = probs.argmax(axis=-1)\n",
        "    # predict = probs.tolist()\n",
        "    # print(predict[0])\n",
        "    # return class_names[predict[0]]\n",
        "   \n",
        "    # topfive_labels = \" \"\n",
        "    # for (imagenetID, label, prob) in decode_predictions(probs, top=5)[0]:\n",
        "    #   topfive_labels += str(label+\", \")\n",
        "    # return topfive_labels\n",
        "\n",
        "@app.route(\"/\")\n",
        "def template_test():\n",
        "    return render_template('index.html', label='', imagesource='file://null')\n",
        "\n",
        "@app.route('/', methods=['POST'])\n",
        "def upload_file():\n",
        "    \n",
        "        file = request.files['file']\n",
        "        \n",
        "        if file and allowed_file(file.filename):\n",
        "            filename = secure_filename(file.filename)\n",
        "            file_path = os.path.join(app.config['UPLOAD_FOLDER'], filename)\n",
        "            file.save(file_path)\n",
        "            output = predict(file_path)\n",
        "        return render_template(\"index.html\", label=output)\n",
        "\n",
        "if __name__ == \"__main__\":\n",
        "    print((\"* Loading Keras model and Flask starting server...please wait until server has fully started\"))\n",
        "    load_model()\n",
        "    app.run()"
      ],
      "execution_count": null,
      "outputs": []
    }
  ]
}