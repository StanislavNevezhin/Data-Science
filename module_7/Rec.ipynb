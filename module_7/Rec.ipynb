{
 "cells": [
  {
   "cell_type": "code",
   "execution_count": 4,
   "metadata": {
    "_cell_guid": "b1076dfc-b9ad-4769-8c92-a6c4dae69d19",
    "_uuid": "8f2839f25d086af736a60e9eeb907d3b93b6e0e5",
    "id": "6eprKBgEHiVO",
    "outputId": "edfb3905-93bb-478f-80ff-3aeaab164f6d"
   },
   "outputs": [
    {
     "name": "stdout",
     "output_type": "stream",
     "text": [
      "/kaggle/input/recommendationsv4/sample_submission.csv\n",
      "/kaggle/input/recommendationsv4/train.csv\n",
      "/kaggle/input/recommendationsv4/test.csv\n",
      "/kaggle/input/recommendationsv4/meta_Grocery_and_Gourmet_Food.json\n"
     ]
    }
   ],
   "source": [
    "# This Python 3 environment comes with many helpful analytics libraries installed\n",
    "# It is defined by the kaggle/python Docker image: https://github.com/kaggle/docker-python\n",
    "# For example, here's several helpful packages to load\n",
    "\n",
    "import numpy as np  # linear algebra\n",
    "import pandas as pd  # data processing, CSV file I/O (e.g. pd.read_csv)\n",
    "\n",
    "# Input data files are available in the read-only \"../input/\" directory\n",
    "# For example, running this (by clicking run or pressing Shift+Enter) will list all files under the input directory\n",
    "# This Python 3 environment comes with many helpful analytics libraries installed\n",
    "# It is defined by the kaggle/python docker image: https://github.com/kaggle/docker-python\n",
    "# For example, here's several helpful packages to load in\n",
    "\n",
    "import numpy as np  # linear algebra\n",
    "import pandas as pd  # data processing, CSV file I/O (e.g. pd.read_csv)\n",
    "\n",
    "# Input data files are available in the \"../input/\" directory.\n",
    "# For example, running this (by clicking run or pressing Shift+Enter) will list all files under the input directory\n",
    "\n",
    "# Any results you write to the current directory are saved as output.\n",
    "import os\n",
    "for dirname, _, filenames in os.walk('/kaggle/input'):\n",
    "    for filename in filenames:\n",
    "        print(os.path.join(dirname, filename))\n",
    "\n",
    "# You can write up to 5GB to the current directory (/kaggle/working/) that gets preserved as output when you create a version using \"Save & Run All\"\n",
    "# You can also write temporary files to /kaggle/temp/, but they won't be saved outside of the current session"
   ]
  },
  {
   "cell_type": "code",
   "execution_count": 5,
   "metadata": {
    "id": "kkYgWihfHiVT"
   },
   "outputs": [],
   "source": [
    "import json\n",
    "import nmslib\n",
    "import pickle\n",
    "import time\n",
    "from sklearn.model_selection import train_test_split\n",
    "import sklearn\n",
    "from lightfm.evaluation import auc_score, precision_at_k, recall_at_k\n",
    "from lightfm.cross_validation import random_train_test_split\n",
    "from lightfm import LightFM\n",
    "import numpy as np\n",
    "import pandas as pd\n",
    "import matplotlib.pyplot as plt\n",
    "import seaborn as sns\n",
    "import scipy.sparse as sparse\n",
    "%matplotlib inline"
   ]
  },
  {
   "cell_type": "markdown",
   "metadata": {
    "id": "fd3-IISFHiVU"
   },
   "source": [
    "## Read_data"
   ]
  },
  {
   "cell_type": "markdown",
   "metadata": {
    "id": "_fm5nx6HHiVU"
   },
   "source": [
    "Загрузим данные, описывающие взаимодействие пользователя (user) и продукта (item), а также файл для сабмита"
   ]
  },
  {
   "cell_type": "code",
   "execution_count": 6,
   "metadata": {
    "_cell_guid": "79c7e3d0-c299-4dcb-8224-4455121ee9b0",
    "_uuid": "d629ff2d2480ee46fbb7e2d37f6b5fab8052498a",
    "id": "SQhXlX6DHiVV"
   },
   "outputs": [
    {
     "name": "stderr",
     "output_type": "stream",
     "text": [
      "/opt/conda/lib/python3.7/site-packages/IPython/core/interactiveshell.py:3063: DtypeWarning: Columns (8) have mixed types.Specify dtype option on import or set low_memory=False.\n",
      "  interactivity=interactivity, compiler=compiler, result=result)\n",
      "/opt/conda/lib/python3.7/site-packages/IPython/core/interactiveshell.py:3063: DtypeWarning: Columns (5) have mixed types.Specify dtype option on import or set low_memory=False.\n",
      "  interactivity=interactivity, compiler=compiler, result=result)\n"
     ]
    }
   ],
   "source": [
    "train = pd.read_csv('../input/recommendationsv4/train.csv')\n",
    "test = pd.read_csv('../input/recommendationsv4/test.csv')\n",
    "submission = pd.read_csv('../input/recommendationsv4/sample_submission.csv')"
   ]
  },
  {
   "cell_type": "markdown",
   "metadata": {
    "id": "ccLvNbYyHiVV"
   },
   "source": [
    "Загрузим данные, описывающие характеристики товара "
   ]
  },
  {
   "cell_type": "code",
   "execution_count": 7,
   "metadata": {
    "id": "31Ea_b6tHiVW"
   },
   "outputs": [],
   "source": [
    "meta = []\n",
    "with open('../input/recommendationsv4/meta_Grocery_and_Gourmet_Food.json', 'r') as file:\n",
    "    for line in file:\n",
    "        meta.append(json.loads(line))\n",
    "file.close()\n",
    "meta = pd.DataFrame(meta)"
   ]
  },
  {
   "cell_type": "markdown",
   "metadata": {
    "id": "k5h5LrmhHiVW"
   },
   "source": [
    "Посмотрим на тренировочный и тестовый датасеты:"
   ]
  },
  {
   "cell_type": "code",
   "execution_count": 8,
   "metadata": {
    "id": "C5nPBL76HiVW",
    "outputId": "b48ecb83-3c74-4d2c-d67e-02537deaccb9"
   },
   "outputs": [
    {
     "name": "stdout",
     "output_type": "stream",
     "text": [
      "<class 'pandas.core.frame.DataFrame'>\n",
      "RangeIndex: 857895 entries, 0 to 857894\n",
      "Data columns (total 14 columns):\n",
      " #   Column          Non-Null Count   Dtype  \n",
      "---  ------          --------------   -----  \n",
      " 0   overall         857895 non-null  float64\n",
      " 1   verified        857895 non-null  bool   \n",
      " 2   reviewTime      857895 non-null  object \n",
      " 3   asin            857895 non-null  object \n",
      " 4   reviewerName    857719 non-null  object \n",
      " 5   reviewText      857616 non-null  object \n",
      " 6   summary         857725 non-null  object \n",
      " 7   unixReviewTime  857895 non-null  int64  \n",
      " 8   vote            118740 non-null  object \n",
      " 9   style           444406 non-null  object \n",
      " 10  image           7142 non-null    object \n",
      " 11  userid          857895 non-null  int64  \n",
      " 12  itemid          857895 non-null  int64  \n",
      " 13  rating          857895 non-null  float64\n",
      "dtypes: bool(1), float64(2), int64(3), object(8)\n",
      "memory usage: 85.9+ MB\n"
     ]
    }
   ],
   "source": [
    "train.info()"
   ]
  },
  {
   "cell_type": "code",
   "execution_count": 9,
   "metadata": {
    "id": "6ALabvniHiVX",
    "outputId": "21c013d3-21f0-4b18-aec8-bfce0298a6bf"
   },
   "outputs": [
    {
     "name": "stdout",
     "output_type": "stream",
     "text": [
      "<class 'pandas.core.frame.DataFrame'>\n",
      "RangeIndex: 285965 entries, 0 to 285964\n",
      "Data columns (total 11 columns):\n",
      " #   Column          Non-Null Count   Dtype \n",
      "---  ------          --------------   ----- \n",
      " 0   verified        285965 non-null  bool  \n",
      " 1   reviewTime      285965 non-null  object\n",
      " 2   asin            285965 non-null  object\n",
      " 3   reviewerName    285918 non-null  object\n",
      " 4   unixReviewTime  285965 non-null  int64 \n",
      " 5   vote            39462 non-null   object\n",
      " 6   style           147680 non-null  object\n",
      " 7   image           2368 non-null    object\n",
      " 8   userid          285965 non-null  int64 \n",
      " 9   itemid          285965 non-null  int64 \n",
      " 10  Id              285965 non-null  int64 \n",
      "dtypes: bool(1), int64(4), object(6)\n",
      "memory usage: 22.1+ MB\n"
     ]
    }
   ],
   "source": [
    "test.info()"
   ]
  },
  {
   "cell_type": "markdown",
   "metadata": {
    "id": "E3qHFwfJHiVX"
   },
   "source": [
    "Можно видеть, что в train на три признака больше, чем в test. В test отсутствуют признаки **overall**, **reviewText**, **summary**, **rating**, но есть признак **Id**, которого нет в train. Посмотрим, есть ли дубликаты "
   ]
  },
  {
   "cell_type": "code",
   "execution_count": 10,
   "metadata": {
    "id": "eEbVBgnSHiVY",
    "outputId": "ada20c75-1276-46d9-e60a-33cfded0a890"
   },
   "outputs": [
    {
     "data": {
      "text/plain": [
       "(        overall  verified   reviewTime        asin            reviewerName  \\\n",
       " 0           5.0      True   10 4, 2016  B01CPNIEQG                 Heather   \n",
       " 1           5.0      True   03 1, 2016  B006F63M8U              Linda Odom   \n",
       " 2           5.0      True  06 26, 2016  B00112O8NG           DesertBlossom   \n",
       " 3           5.0      True   09 5, 2013  B00MRAQUM8        Connie L. Reaves   \n",
       " 4           5.0      True  09 14, 2016  B000R7RN0G                 Mike P.   \n",
       " ...         ...       ...          ...         ...                     ...   \n",
       " 857890      5.0      True   04 2, 2013  B000H7ELTW              chezlouise   \n",
       " 857891      2.0      True  12 13, 2015  B0012NI02O  Robert F. O&#039;Bryan   \n",
       " 857892      4.0     False  09 21, 2016  B000LKX6R8            bamboo grove   \n",
       " 857893      4.0      True   11 1, 2015  B00BUKL666              Speedway91   \n",
       " 857894      5.0      True   08 3, 2017  B000JJHDVG     Elizabeth E. Castor   \n",
       " \n",
       "                                                reviewText  \\\n",
       " 0       These are my FAVORITE spices in my collection....   \n",
       " 1       Add A package to my Coffee and it makes a good...   \n",
       " 2       I love the Torani syrups, but not the prices o...   \n",
       " 3       Very fragrant. The price can't be beat. I do l...   \n",
       " 4       These are my favorite jalapeno chips so far. T...   \n",
       " ...                                                   ...   \n",
       " 857890  Next to the round variety hanging on my cherry...   \n",
       " 857891                                 Not my cup of tea.   \n",
       " 857892  I really like these noodles, I just gave it on...   \n",
       " 857893  I like these, they are the kind for a snack an...   \n",
       " 857894  Like this product.  Its great in the shaker fo...   \n",
       " \n",
       "                                                   summary  unixReviewTime  \\\n",
       " 0                         Must Add to your Spice kitchen!      1475539200   \n",
       " 1                 Milk Chocolate Swiis MIss Hot Cocoa Mix      1456790400   \n",
       " 2       Love these sugar free syrups, but didn't love ...      1466899200   \n",
       " 3                                                  Nice !      1378339200   \n",
       " 4             These are my favorite jalapeno chips so far      1473811200   \n",
       " ...                                                   ...             ...   \n",
       " 857890              next to the round variety............      1364860800   \n",
       " 857891                                          Two Stars      1449964800   \n",
       " 857892                    good but better value elsewhere      1474416000   \n",
       " 857893                                    Great selection      1446336000   \n",
       " 857894                                         Five Stars      1501718400   \n",
       " \n",
       "        vote                               style image  userid  itemid  rating  \n",
       " 0       NaN                                 NaN   NaN  102179   37138     1.0  \n",
       " 1       NaN  {'Size:': ' 60-0.73 oz Envelopes'}   NaN    3625   17322     1.0  \n",
       " 2        28                                 NaN   NaN   39495    5600     1.0  \n",
       " 3       NaN                                 NaN   NaN   72854   30249     1.0  \n",
       " 4       NaN             {'Flavor:': ' Jalapeo'}   NaN   74859    4349     1.0  \n",
       " ...     ...                                 ...   ...     ...     ...     ...  \n",
       " 857890  NaN      {'Flavor:': ' Dried Cherries'}   NaN   59433    2566     1.0  \n",
       " 857891  NaN         {'Package Quantity:': ' 1'}   NaN   86473    5828     0.0  \n",
       " 857892  NaN             {'Size:': ' Pack of 8'}   NaN      88    3251     1.0  \n",
       " 857893  NaN                                 NaN   NaN   41540   22208     1.0  \n",
       " 857894  NaN                                 NaN   NaN     466    2931     1.0  \n",
       " \n",
       " [857895 rows x 14 columns],\n",
       " 0)"
      ]
     },
     "execution_count": 10,
     "metadata": {},
     "output_type": "execute_result"
    }
   ],
   "source": [
    "train, test.duplicated().sum()"
   ]
  },
  {
   "cell_type": "markdown",
   "metadata": {
    "id": "6EVkB5mJHiVY"
   },
   "source": [
    "В тренировочном наборе есть 28960 дубликатов (удалим их), тестовый набор дубликатов не содержит"
   ]
  },
  {
   "cell_type": "code",
   "execution_count": 11,
   "metadata": {
    "id": "2hF4OnHXHiVZ"
   },
   "outputs": [],
   "source": [
    "train.drop_duplicates(inplace=True)"
   ]
  },
  {
   "cell_type": "code",
   "execution_count": 12,
   "metadata": {
    "id": "bY-iXXQXHiVZ",
    "outputId": "248dbf6e-51fc-468e-dee6-55ba3d68fc73"
   },
   "outputs": [
    {
     "name": "stdout",
     "output_type": "stream",
     "text": [
      "<class 'pandas.core.frame.DataFrame'>\n",
      "RangeIndex: 287209 entries, 0 to 287208\n",
      "Data columns (total 17 columns):\n",
      " #   Column        Non-Null Count   Dtype \n",
      "---  ------        --------------   ----- \n",
      " 0   category      287209 non-null  object\n",
      " 1   description   251802 non-null  object\n",
      " 2   title         287205 non-null  object\n",
      " 3   brand         275787 non-null  object\n",
      " 4   rank          275494 non-null  object\n",
      " 5   also_view     121012 non-null  object\n",
      " 6   main_cat      285716 non-null  object\n",
      " 7   price         132136 non-null  object\n",
      " 8   asin          287209 non-null  object\n",
      " 9   also_buy      83332 non-null   object\n",
      " 10  image         150214 non-null  object\n",
      " 11  date          9663 non-null    object\n",
      " 12  feature       16374 non-null   object\n",
      " 13  details       273323 non-null  object\n",
      " 14  similar_item  256 non-null     object\n",
      " 15  tech1         744 non-null     object\n",
      " 16  fit           4 non-null       object\n",
      "dtypes: object(17)\n",
      "memory usage: 37.3+ MB\n"
     ]
    }
   ],
   "source": [
    "meta.info()"
   ]
  },
  {
   "cell_type": "markdown",
   "metadata": {
    "id": "003s10h8HiVZ"
   },
   "source": [
    "Для удобства дальнейшего анализа объединим train и meta по признаку asin: "
   ]
  },
  {
   "cell_type": "code",
   "execution_count": 13,
   "metadata": {
    "id": "L3AWP9TrHiVZ"
   },
   "outputs": [],
   "source": [
    "df = pd.merge(train, meta, on='asin')"
   ]
  },
  {
   "cell_type": "code",
   "execution_count": 14,
   "metadata": {
    "id": "4eXQsjWUHiVa",
    "outputId": "4d7bddea-66f6-4c51-f32c-2ee186243876"
   },
   "outputs": [
    {
     "name": "stdout",
     "output_type": "stream",
     "text": [
      "<class 'pandas.core.frame.DataFrame'>\n",
      "Int64Index: 847593 entries, 0 to 847592\n",
      "Data columns (total 30 columns):\n",
      " #   Column          Non-Null Count   Dtype  \n",
      "---  ------          --------------   -----  \n",
      " 0   overall         847593 non-null  float64\n",
      " 1   verified        847593 non-null  bool   \n",
      " 2   reviewTime      847593 non-null  object \n",
      " 3   asin            847593 non-null  object \n",
      " 4   reviewerName    847425 non-null  object \n",
      " 5   reviewText      847315 non-null  object \n",
      " 6   summary         847426 non-null  object \n",
      " 7   unixReviewTime  847593 non-null  int64  \n",
      " 8   vote            118861 non-null  object \n",
      " 9   style           440351 non-null  object \n",
      " 10  image_x         7138 non-null    object \n",
      " 11  userid          847593 non-null  int64  \n",
      " 12  itemid          847593 non-null  int64  \n",
      " 13  rating          847593 non-null  float64\n",
      " 14  category        847593 non-null  object \n",
      " 15  description     776098 non-null  object \n",
      " 16  title           847593 non-null  object \n",
      " 17  brand           841489 non-null  object \n",
      " 18  rank            812995 non-null  object \n",
      " 19  also_view       463371 non-null  object \n",
      " 20  main_cat        846638 non-null  object \n",
      " 21  price           588972 non-null  object \n",
      " 22  also_buy        726858 non-null  object \n",
      " 23  image_y         755354 non-null  object \n",
      " 24  date            12087 non-null   object \n",
      " 25  feature         142734 non-null  object \n",
      " 26  details         832985 non-null  object \n",
      " 27  similar_item    1138 non-null    object \n",
      " 28  tech1           4372 non-null    object \n",
      " 29  fit             0 non-null       object \n",
      "dtypes: bool(1), float64(2), int64(3), object(24)\n",
      "memory usage: 194.8+ MB\n"
     ]
    }
   ],
   "source": [
    "df.info()"
   ]
  },
  {
   "cell_type": "markdown",
   "metadata": {
    "id": "eTGwRV94HiVa"
   },
   "source": [
    "Получили всего 30 признаков, из них 5 - числового типа, 1 - логического, остальные - категориальные. \n",
    "\n",
    "Посмотрим на них более подробно, сразу отметим, что анализ поверхностный, ибо большинство признаков не используются для построения модели в дальнейшем, за исключением **userid**, **itemid** и **rating**"
   ]
  },
  {
   "cell_type": "markdown",
   "metadata": {
    "id": "GXYj2wRgHiVb"
   },
   "source": [
    "## EDA "
   ]
  },
  {
   "cell_type": "markdown",
   "metadata": {
    "id": "ZIUV8Z_aHiVb"
   },
   "source": [
    "### 1. overall"
   ]
  },
  {
   "cell_type": "code",
   "execution_count": 15,
   "metadata": {
    "id": "--mk-WDEHiVc"
   },
   "outputs": [],
   "source": [
    "def column_info(name, hist_draw=True):\n",
    "    data = df[name]\n",
    "    print(data.describe())\n",
    "    print(f\"\\nNAN-values: {data.isnull().sum()}\\n\")\n",
    "    print(f\"Values:\\n{data.value_counts(normalize = True)}\\n\")\n",
    "    if hist_draw:\n",
    "        data.hist()"
   ]
  },
  {
   "cell_type": "code",
   "execution_count": 16,
   "metadata": {
    "executionInfo": {
     "elapsed": 1717,
     "status": "error",
     "timestamp": 1610012855631,
     "user": {
      "displayName": "Станислав Невежин",
      "photoUrl": "https://lh3.googleusercontent.com/a-/AOh14GjqIeVzf6wNdrqqY85llUoQjqZ0KF5rpxMmUlH4=s64",
      "userId": "14005767866587588160"
     },
     "user_tz": -180
    },
    "id": "n4jExfNfHiVc",
    "outputId": "b021eaf7-a7ec-41db-8137-2781b8bbccb3"
   },
   "outputs": [
    {
     "name": "stdout",
     "output_type": "stream",
     "text": [
      "count    847593.000000\n",
      "mean          4.441068\n",
      "std           1.065026\n",
      "min           1.000000\n",
      "25%           4.000000\n",
      "50%           5.000000\n",
      "75%           5.000000\n",
      "max           5.000000\n",
      "Name: overall, dtype: float64\n",
      "\n",
      "NAN-values: 0\n",
      "\n",
      "Values:\n",
      "5.0    0.716764\n",
      "4.0    0.131983\n",
      "3.0    0.070547\n",
      "1.0    0.043737\n",
      "2.0    0.036969\n",
      "Name: overall, dtype: float64\n",
      "\n"
     ]
    },
    {
     "data": {
      "image/png": "[encoded data removed]",
      "text/plain": [
       "<Figure size 432x288 with 1 Axes>"
      ]
     },
     "metadata": {
      "needs_background": "light"
     },
     "output_type": "display_data"
    }
   ],
   "source": [
    "column_info(\"overall\")"
   ]
  },
  {
   "cell_type": "markdown",
   "metadata": {
    "id": "bwMxYo3kHiVd"
   },
   "source": [
    "Скорее всего, это оценка по пятибальной шкале. Большинство (84%) отзывов положительные (оценка 4 или 5). Пропусков нет."
   ]
  },
  {
   "cell_type": "markdown",
   "metadata": {
    "id": "b4tfIDyYHiVd"
   },
   "source": [
    "### 2. verified "
   ]
  },
  {
   "cell_type": "code",
   "execution_count": 17,
   "metadata": {
    "id": "Oc56XNEjHiVd"
   },
   "outputs": [
    {
     "name": "stdout",
     "output_type": "stream",
     "text": [
      "count     847593\n",
      "unique         2\n",
      "top         True\n",
      "freq      736369\n",
      "Name: verified, dtype: object\n",
      "\n",
      "NAN-values: 0\n",
      "\n",
      "Values:\n",
      "True     0.868777\n",
      "False    0.131223\n",
      "Name: verified, dtype: float64\n",
      "\n"
     ]
    }
   ],
   "source": [
    "column_info(\"verified\", hist_draw=False)"
   ]
  },
  {
   "cell_type": "markdown",
   "metadata": {
    "id": "JaYcFIO1HiVe"
   },
   "source": [
    "Вероятно, этот признак обозначает наличие подтверждения отзыва (возможно, отзывы проходят проверку). Пропусков нет, большинство (86%) отзывов подтвержденные."
   ]
  },
  {
   "cell_type": "markdown",
   "metadata": {
    "id": "SYKzMXLiHiVe"
   },
   "source": [
    "### 3. reviewTime "
   ]
  },
  {
   "cell_type": "code",
   "execution_count": 18,
   "metadata": {
    "id": "TMdUvnQtHiVe"
   },
   "outputs": [
    {
     "name": "stdout",
     "output_type": "stream",
     "text": [
      "count         847593\n",
      "unique          4580\n",
      "top       03 1, 2016\n",
      "freq             941\n",
      "Name: reviewTime, dtype: object\n",
      "\n",
      "NAN-values: 0\n",
      "\n",
      "Values:\n",
      "03 1, 2016     0.001110\n",
      "07 14, 2016    0.001030\n",
      "06 3, 2015     0.000924\n",
      "01 20, 2016    0.000924\n",
      "02 20, 2016    0.000905\n",
      "                 ...   \n",
      "10 20, 2007    0.000001\n",
      "02 4, 2006     0.000001\n",
      "08 4, 2004     0.000001\n",
      "09 5, 2005     0.000001\n",
      "04 5, 2006     0.000001\n",
      "Name: reviewTime, Length: 4580, dtype: float64\n",
      "\n"
     ]
    }
   ],
   "source": [
    "column_info(\"reviewTime\", hist_draw=False)"
   ]
  },
  {
   "cell_type": "markdown",
   "metadata": {
    "id": "g_cAk-IdHiVe"
   },
   "source": [
    "Дата отзыва, есть аналог в признаке unixReviewTime. Пропусков нет. "
   ]
  },
  {
   "cell_type": "markdown",
   "metadata": {
    "id": "SnE8WeYyHiVf"
   },
   "source": [
    "### 4. asin"
   ]
  },
  {
   "cell_type": "code",
   "execution_count": 19,
   "metadata": {
    "id": "nhWsJqZJHiVf"
   },
   "outputs": [
    {
     "name": "stdout",
     "output_type": "stream",
     "text": [
      "count         847593\n",
      "unique         41302\n",
      "top       B00BUKL666\n",
      "freq            5430\n",
      "Name: asin, dtype: object\n",
      "\n",
      "NAN-values: 0\n",
      "\n",
      "Values:\n",
      "B00BUKL666    0.006406\n",
      "B00D3M2QP4    0.005584\n",
      "B008QMX2SG    0.005440\n",
      "B0001LO3FG    0.005017\n",
      "B00R7PWK7W    0.002889\n",
      "                ...   \n",
      "B00155SSOY    0.000001\n",
      "B006V79H9Q    0.000001\n",
      "B0055SMXLG    0.000001\n",
      "B0014H637M    0.000001\n",
      "B000PWLTYY    0.000001\n",
      "Name: asin, Length: 41302, dtype: float64\n",
      "\n"
     ]
    }
   ],
   "source": [
    "column_info(\"asin\", hist_draw=False)"
   ]
  },
  {
   "cell_type": "markdown",
   "metadata": {
    "id": "zPjMmUrLHiVf"
   },
   "source": [
    "Уникальный идентификатор товара (Amazon Standard Identification Number). Пропусков нет. Количество товаров, представленных в датасете 41302. "
   ]
  },
  {
   "cell_type": "markdown",
   "metadata": {
    "id": "jaZtc_ZrHiVf"
   },
   "source": [
    "### 5. reviewerName"
   ]
  },
  {
   "cell_type": "code",
   "execution_count": 20,
   "metadata": {
    "id": "fwYcY7FAHiVg"
   },
   "outputs": [
    {
     "name": "stdout",
     "output_type": "stream",
     "text": [
      "count              847425\n",
      "unique             101207\n",
      "top       Amazon Customer\n",
      "freq                31346\n",
      "Name: reviewerName, dtype: object\n",
      "\n",
      "NAN-values: 168\n",
      "\n",
      "Values:\n",
      "Amazon Customer    0.036990\n",
      "Kindle Customer    0.007231\n",
      "Linda              0.000860\n",
      "John               0.000843\n",
      "David              0.000715\n",
      "                     ...   \n",
      "Fermin             0.000001\n",
      "Rolonmascara       0.000001\n",
      "Pati Nolen         0.000001\n",
      "Jbuckles           0.000001\n",
      "Cam Tower          0.000001\n",
      "Name: reviewerName, Length: 101207, dtype: float64\n",
      "\n"
     ]
    }
   ],
   "source": [
    "column_info(\"reviewerName\", hist_draw=False)"
   ]
  },
  {
   "cell_type": "markdown",
   "metadata": {
    "id": "2yzvQ3FeHiVg"
   },
   "source": [
    "Имя покупателя. Есть пропуски. Наиболее часто встречающиеся имена Amazon и Kindle customer, что, скорее всего, является значением по умолчанию для случая, когда покупатель захотел остаться неизвестным.  "
   ]
  },
  {
   "cell_type": "markdown",
   "metadata": {
    "id": "aY0wk065HiVg"
   },
   "source": [
    "### 6. reviewText"
   ]
  },
  {
   "cell_type": "code",
   "execution_count": 21,
   "metadata": {
    "id": "5aB29rhmHiVg"
   },
   "outputs": [
    {
     "name": "stdout",
     "output_type": "stream",
     "text": [
      "count     847315\n",
      "unique    686739\n",
      "top         good\n",
      "freq        3071\n",
      "Name: reviewText, dtype: object\n",
      "\n",
      "NAN-values: 278\n",
      "\n",
      "Values:\n",
      "good                                                                                                                                                                                                                                                                                                                                                                                                                                                                                                                                                                                                                                                                                                                                                                                                                                                                                                                                                                                                                                                                                                                                                                                                                                                                                                                                                                                                                                                                                                                                                                                                                                                                                                                                                                                                                                                                                                       0.003624\n",
      "great                                                                                                                                                                                                                                                                                                                                                                                                                                                                                                                                                                                                                                                                                                                                                                                                                                                                                                                                                                                                                                                                                                                                                                                                                                                                                                                                                                                                                                                                                                                                                                                                                                                                                                                                                                                                                                                                                                      0.003069\n",
      "Great                                                                                                                                                                                                                                                                                                                                                                                                                                                                                                                                                                                                                                                                                                                                                                                                                                                                                                                                                                                                                                                                                                                                                                                                                                                                                                                                                                                                                                                                                                                                                                                                                                                                                                                                                                                                                                                                                                      0.002424\n",
      "Good                                                                                                                                                                                                                                                                                                                                                                                                                                                                                                                                                                                                                                                                                                                                                                                                                                                                                                                                                                                                                                                                                                                                                                                                                                                                                                                                                                                                                                                                                                                                                                                                                                                                                                                                                                                                                                                                                                       0.002379\n",
      "ok                                                                                                                                                                                                                                                                                                                                                                                                                                                                                                                                                                                                                                                                                                                                                                                                                                                                                                                                                                                                                                                                                                                                                                                                                                                                                                                                                                                                                                                                                                                                                                                                                                                                                                                                                                                                                                                                                                         0.001541\n",
      "                                                                                                                                                                                                                                                                                                                                                                                                                                                                                                                                                                                                                                                                                                                                                                                                                                                                                                                                                                                                                                                                                                                                                                                                                                                                                                                                                                                                                                                                                                                                                                                                                                                                                                                                                                                                                                                                                                             ...   \n",
      "I am pleased with my choice. I made vegan signapore noodles tonight and this really kicked up the flavor.                                                                                                                                                                                                                                                                                                                                                                                                                                                                                                                                                                                                                                                                                                                                                                                                                                                                                                                                                                                                                                                                                                                                                                                                                                                                                                                                                                                                                                                                                                                                                                                                                                                                                                                                                                                                  0.000001\n",
      "Great taste, use on steamed veggies and salads, also use for grilling cheese sandwiches.                                                                                                                                                                                                                                                                                                                                                                                                                                                                                                                                                                                                                                                                                                                                                                                                                                                                                                                                                                                                                                                                                                                                                                                                                                                                                                                                                                                                                                                                                                                                                                                                                                                                                                                                                                                                                   0.000001\n",
      "Great tasting gluten free pretzels                                                                                                                                                                                                                                                                                                                                                                                                                                                                                                                                                                                                                                                                                                                                                                                                                                                                                                                                                                                                                                                                                                                                                                                                                                                                                                                                                                                                                                                                                                                                                                                                                                                                                                                                                                                                                                                                         0.000001\n",
      "Wonderful taste, great price,                                                                                                                                                                                                                                                                                                                                                                                                                                                                                                                                                                                                                                                                                                                                                                                                                                                                                                                                                                                                                                                                                                                                                                                                                                                                                                                                                                                                                                                                                                                                                                                                                                                                                                                                                                                                                                                                              0.000001\n",
      "Yes, this can be expensive compared to other Balsamic vinegars. But when added to my basic sauces and dressings or used as an ingredient in recipes calling for balsamic vinegar, the results win raves from friends and family.\\n\\nI'm not certain I'm a \"typical\" user for this product. My food is tasty enough but I don't consider myself a gourmet cook. My meals are often created quickly. With a busy schedule, there isn't much free time on week nights. I bargain shop. We have a food budget.\\n\\nEven so, I find this Balsamic to be worth every penny. A little goes a LONG way so I had to experiment a bit to get the right mix of ingredients. No lavish splashing of this vinegar into glazes for meat (besides, it doesn't splash, it drips like a syrup).\\n\\nThe last time I made  Balsamic glazed chicken breasts using the MiaBella my son devoured every piece and begged me to save the recipe. But I'd used the same basic recipe I always did - with the exception of adding the MiaBella Balsamic. It is basically an olive oil and balsamic glaze. I marinade skinless chicken tenders or breasts in it (the longer, the better, but an hour or so is fine). I add a bit of fresh oregano or basil (dried will work too) and some crushed garlic to the marinade. When I'm ready, I quickly broil the meat, being mindful to keep it juicy, perhaps lightly browned, but not overdone.\\n\\nThe results with the MiaBella were wonderful and the meat was tender and delicious. And...my son didn't even know I'd tweaked an old favorite meal and made it seem new. The vinegar is that distinctive, that fresh, that delicious. I'm impressed.\\n\\nAnother method: this time I don't marinade the meat. I simply use my  crockpot and the glaze reduces to a lovely thick coating. I wonder if the Balsamic made it extra tender? No idea. Just very happy with the results!    0.000001\n",
      "Name: reviewText, Length: 686739, dtype: float64\n",
      "\n"
     ]
    }
   ],
   "source": [
    "column_info(\"reviewText\", hist_draw=False)"
   ]
  },
  {
   "cell_type": "markdown",
   "metadata": {
    "id": "kygx-RxsHiVh"
   },
   "source": [
    "Отзыв покупателя. Есть пропуски. Наиболее популярные отзывы good, great, ok. "
   ]
  },
  {
   "cell_type": "markdown",
   "metadata": {
    "id": "Wn12ioB6HiVh"
   },
   "source": [
    "### 7. summary "
   ]
  },
  {
   "cell_type": "code",
   "execution_count": 22,
   "metadata": {
    "id": "PfVis66WHiVh"
   },
   "outputs": [
    {
     "name": "stdout",
     "output_type": "stream",
     "text": [
      "count         847426\n",
      "unique        411451\n",
      "top       Five Stars\n",
      "freq          171328\n",
      "Name: summary, dtype: object\n",
      "\n",
      "NAN-values: 167\n",
      "\n",
      "Values:\n",
      "Five Stars                                                                                                                     0.202175\n",
      "Four Stars                                                                                                                     0.031386\n",
      "Three Stars                                                                                                                    0.014058\n",
      "One Star                                                                                                                       0.006254\n",
      "Two Stars                                                                                                                      0.005806\n",
      "                                                                                                                                 ...   \n",
      "Good light meal                                                                                                                0.000001\n",
      "An Acquired Taste?                                                                                                             0.000001\n",
      "As salty as white salt, but much cooler.                                                                                       0.000001\n",
      "A light, refreshing water beverage that contains very few ingredients or calories, but still provides some decent flavor...    0.000001\n",
      "Kids love it, good price                                                                                                       0.000001\n",
      "Name: summary, Length: 411451, dtype: float64\n",
      "\n"
     ]
    }
   ],
   "source": [
    "column_info(\"summary\", hist_draw=False)"
   ]
  },
  {
   "cell_type": "markdown",
   "metadata": {
    "id": "AFIsFLoNHiVi"
   },
   "source": [
    "Краткое резюме покупателя. Есть пропуски. Наиболее популярные это количество звезд (от 1 до 5). "
   ]
  },
  {
   "cell_type": "markdown",
   "metadata": {
    "id": "mJYwYgH5HiVi"
   },
   "source": [
    "### 8. unixReviewTime"
   ]
  },
  {
   "cell_type": "code",
   "execution_count": 23,
   "metadata": {
    "id": "jNG2EeDlHiVi"
   },
   "outputs": [
    {
     "name": "stdout",
     "output_type": "stream",
     "text": [
      "count    8.475930e+05\n",
      "mean     1.441914e+09\n",
      "std      5.992384e+07\n",
      "min      9.657792e+08\n",
      "25%      1.412122e+09\n",
      "50%      1.449360e+09\n",
      "75%      1.485130e+09\n",
      "max      1.538438e+09\n",
      "Name: unixReviewTime, dtype: float64\n",
      "\n",
      "NAN-values: 0\n",
      "\n",
      "Values:\n",
      "1456790400    0.001110\n",
      "1468454400    0.001030\n",
      "1433289600    0.000924\n",
      "1453248000    0.000924\n",
      "1455926400    0.000905\n",
      "                ...   \n",
      "1113782400    0.000001\n",
      "1132444800    0.000001\n",
      "1167609600    0.000001\n",
      "1105142400    0.000001\n",
      "1155081600    0.000001\n",
      "Name: unixReviewTime, Length: 4580, dtype: float64\n",
      "\n"
     ]
    },
    {
     "data": {
      "image/png": "[encoded data removed]",
      "text/plain": [
       "<Figure size 432x288 with 1 Axes>"
      ]
     },
     "metadata": {
      "needs_background": "light"
     },
     "output_type": "display_data"
    }
   ],
   "source": [
    "column_info(\"unixReviewTime\")"
   ]
  },
  {
   "cell_type": "markdown",
   "metadata": {
    "id": "DSjxuAqMHiVi"
   },
   "source": [
    "Время отзыва в формате unixtime. Пропусков нет. Распределение показывает, что количество отзывов росло с течением времени, достигло своего максимума и пошло на спад. "
   ]
  },
  {
   "cell_type": "markdown",
   "metadata": {
    "id": "Hc9lb2whHiVj"
   },
   "source": [
    "### 9. vote"
   ]
  },
  {
   "cell_type": "code",
   "execution_count": 24,
   "metadata": {
    "id": "e3BlqkVXHiVj"
   },
   "outputs": [
    {
     "name": "stdout",
     "output_type": "stream",
     "text": [
      "count     118861.0\n",
      "unique       477.0\n",
      "top            2.0\n",
      "freq       30774.0\n",
      "Name: vote, dtype: float64\n",
      "\n",
      "NAN-values: 728732\n",
      "\n",
      "Values:\n",
      "2.0      0.258907\n",
      "3.0      0.129025\n",
      "2        0.115984\n",
      "4.0      0.074818\n",
      "3        0.058632\n",
      "           ...   \n",
      "147.0    0.000008\n",
      "140.0    0.000008\n",
      "817.0    0.000008\n",
      "824.0    0.000008\n",
      "120.0    0.000008\n",
      "Name: vote, Length: 477, dtype: float64\n",
      "\n"
     ]
    }
   ],
   "source": [
    "column_info(\"vote\", hist_draw=False)"
   ]
  },
  {
   "cell_type": "markdown",
   "metadata": {},
   "source": [
    "Скорее всего, это количество лайков на отзыв. Наблюдается много пропусков, что вполне естественно."
   ]
  },
  {
   "cell_type": "markdown",
   "metadata": {
    "id": "LV-ryQwHHiVj"
   },
   "source": [
    "### 10. style"
   ]
  },
  {
   "cell_type": "code",
   "execution_count": 26,
   "metadata": {
    "id": "Ubpfe-sSHiVk"
   },
   "outputs": [
    {
     "name": "stdout",
     "output_type": "stream",
     "text": [
      "count                      440351\n",
      "unique                      25892\n",
      "top       {'Size:': ' Pack of 1'}\n",
      "freq                         4856\n",
      "Name: style, dtype: object\n",
      "\n",
      "NAN-values: 407242\n",
      "\n",
      "Values:\n",
      "{'Size:': ' Pack of 1'}                                             0.011028\n",
      "{'Package Quantity:': ' 1'}                                         0.010278\n",
      "{'Package Type:': ' Standard Packaging'}                            0.008852\n",
      "{'Size:': ' 1 Pack'}                                                0.008738\n",
      "{'Size:': ' 24 Count'}                                              0.008266\n",
      "                                                                      ...   \n",
      "{'Style:': ' Buttery Jalapeno'}                                     0.000002\n",
      "{'Size:': ' 1.95 Ounce (Pack of 15)', 'Flavor:': ' Pumpkin Pie'}    0.000002\n",
      "{'Size:': ' 48 Capsules', 'Flavor:': ' Espresso Roast'}             0.000002\n",
      "{'Size:': ' 4.7 Oz'}                                                0.000002\n",
      "{'Size:': ' 2-Ounce Bags (Pack of 12)', 'Flavor:': ' Wild Taro'}    0.000002\n",
      "Name: style, Length: 25892, dtype: float64\n",
      "\n"
     ]
    }
   ],
   "source": [
    "column_info(\"style\", hist_draw=False)"
   ]
  },
  {
   "cell_type": "markdown",
   "metadata": {
    "id": "-AroNOwmHiVk"
   },
   "source": [
    "Признак содержит размер содержимого (количества единиц товара в упаковке или массу), а также характеристику вкуса. Имеются пропуски, кроме того, некоторые содержат только размер или только характеристику вкуса. "
   ]
  },
  {
   "cell_type": "markdown",
   "metadata": {
    "id": "Rq8ZJwqYHiVk"
   },
   "source": [
    "### 11. image_x"
   ]
  },
  {
   "cell_type": "code",
   "execution_count": 27,
   "metadata": {
    "id": "N3D45GqmHiVk"
   },
   "outputs": [
    {
     "name": "stdout",
     "output_type": "stream",
     "text": [
      "count                                                  7138\n",
      "unique                                                 6636\n",
      "top       ['https://images-na.ssl-images-amazon.com/imag...\n",
      "freq                                                      6\n",
      "Name: image_x, dtype: object\n",
      "\n",
      "NAN-values: 840455\n",
      "\n",
      "Values:\n",
      "['https://images-na.ssl-images-amazon.com/images/I/712zJIOTV5L._SY88.jpg']                                                                                                                                                                                                                                  0.000841\n",
      "['https://images-na.ssl-images-amazon.com/images/I/71+Z1TA3eyL._SY88.jpg']                                                                                                                                                                                                                                  0.000841\n",
      "['https://images-na.ssl-images-amazon.com/images/I/81h8Zc+1rzL._SY88.jpg']                                                                                                                                                                                                                                  0.000700\n",
      "['https://images-na.ssl-images-amazon.com/images/I/81ZkT-0FJpL._SY88.jpg']                                                                                                                                                                                                                                  0.000700\n",
      "['https://images-na.ssl-images-amazon.com/images/I/81kah7EsJtL._SY88.jpg', 'https://images-na.ssl-images-amazon.com/images/I/81YnU7oiOIL._SY88.jpg', 'https://images-na.ssl-images-amazon.com/images/I/81j+y7+3NxL._SY88.jpg', 'https://images-na.ssl-images-amazon.com/images/I/81RV96qYZvL._SY88.jpg']    0.000700\n",
      "                                                                                                                                                                                                                                                                                                              ...   \n",
      "['https://images-na.ssl-images-amazon.com/images/I/81-LCYTVBTL._SY88.jpg', 'https://images-na.ssl-images-amazon.com/images/I/81-LCYTVBTL._SY88.jpg']                                                                                                                                                        0.000140\n",
      "['https://images-na.ssl-images-amazon.com/images/I/71+zdO1xPxL._SY88.jpg', 'https://images-na.ssl-images-amazon.com/images/I/71eBudKx2KL._SY88.jpg']                                                                                                                                                        0.000140\n",
      "['https://images-na.ssl-images-amazon.com/images/I/41LtpBGDqBL._SY88.jpg']                                                                                                                                                                                                                                  0.000140\n",
      "['https://images-na.ssl-images-amazon.com/images/I/81GhdyslH3L._SY88.jpg']                                                                                                                                                                                                                                  0.000140\n",
      "['https://images-na.ssl-images-amazon.com/images/I/71KXA4dmsoL._SY88.jpg', 'https://images-na.ssl-images-amazon.com/images/I/81incPsa3eL._SY88.jpg', 'https://images-na.ssl-images-amazon.com/images/I/81NtPeP0xNL._SY88.jpg']                                                                              0.000140\n",
      "Name: image_x, Length: 6636, dtype: float64\n",
      "\n"
     ]
    }
   ],
   "source": [
    "column_info(\"image_x\", hist_draw=False)"
   ]
  },
  {
   "cell_type": "markdown",
   "metadata": {
    "id": "4gUScc-rHiVl"
   },
   "source": [
    "Признак содержит ссылку на изображение товара. Много пропусков. "
   ]
  },
  {
   "cell_type": "markdown",
   "metadata": {
    "id": "ZTi_2K87HiVl"
   },
   "source": [
    "### 12. userid"
   ]
  },
  {
   "cell_type": "code",
   "execution_count": 28,
   "metadata": {
    "id": "iZ3T0SDPHiVl"
   },
   "outputs": [
    {
     "name": "stdout",
     "output_type": "stream",
     "text": [
      "count    847593.000000\n",
      "mean      53756.091163\n",
      "std       37211.809152\n",
      "min           0.000000\n",
      "25%       20347.000000\n",
      "50%       48581.000000\n",
      "75%       84723.000000\n",
      "max      127495.000000\n",
      "Name: userid, dtype: float64\n",
      "\n",
      "NAN-values: 0\n",
      "\n",
      "Values:\n",
      "842      0.000504\n",
      "17987    0.000374\n",
      "355      0.000356\n",
      "2024     0.000349\n",
      "2809     0.000329\n",
      "           ...   \n",
      "66068    0.000001\n",
      "71046    0.000001\n",
      "90602    0.000001\n",
      "37414    0.000001\n",
      "77032    0.000001\n",
      "Name: userid, Length: 127448, dtype: float64\n",
      "\n"
     ]
    }
   ],
   "source": [
    "column_info(\"userid\", hist_draw=False)"
   ]
  },
  {
   "cell_type": "code",
   "execution_count": 29,
   "metadata": {
    "id": "8P3k3NJpHiVm"
   },
   "outputs": [
    {
     "data": {
      "text/plain": [
       "127448"
      ]
     },
     "execution_count": 29,
     "metadata": {},
     "output_type": "execute_result"
    }
   ],
   "source": [
    "df.userid.nunique()"
   ]
  },
  {
   "cell_type": "markdown",
   "metadata": {
    "id": "3y1WtSOWHiVm"
   },
   "source": [
    "Id пользователя. Пропусков нет. Всего 127448 уникальных значений. "
   ]
  },
  {
   "cell_type": "markdown",
   "metadata": {
    "id": "z3_CsqVMHiVm"
   },
   "source": [
    "### 13. itemid"
   ]
  },
  {
   "cell_type": "code",
   "execution_count": 30,
   "metadata": {
    "id": "i5xftiCCHiVm"
   },
   "outputs": [
    {
     "name": "stdout",
     "output_type": "stream",
     "text": [
      "count    847593.00000\n",
      "mean      17090.10489\n",
      "std       11584.74670\n",
      "min           0.00000\n",
      "25%        6478.00000\n",
      "50%       16108.00000\n",
      "75%       26719.00000\n",
      "max       41319.00000\n",
      "Name: itemid, dtype: float64\n",
      "\n",
      "NAN-values: 0\n",
      "\n",
      "Values:\n",
      "22208    0.006406\n",
      "23540    0.005584\n",
      "24556    0.005440\n",
      "379      0.005017\n",
      "32046    0.002889\n",
      "           ...   \n",
      "38965    0.000001\n",
      "23635    0.000001\n",
      "34272    0.000001\n",
      "39917    0.000001\n",
      "38902    0.000001\n",
      "Name: itemid, Length: 41302, dtype: float64\n",
      "\n"
     ]
    }
   ],
   "source": [
    "column_info(\"itemid\", hist_draw=False)"
   ]
  },
  {
   "cell_type": "code",
   "execution_count": 31,
   "metadata": {
    "id": "my1ayY5BHiVn"
   },
   "outputs": [
    {
     "data": {
      "text/plain": [
       "41302"
      ]
     },
     "execution_count": 31,
     "metadata": {},
     "output_type": "execute_result"
    }
   ],
   "source": [
    "df.itemid.nunique()"
   ]
  },
  {
   "cell_type": "markdown",
   "metadata": {
    "id": "YqQzWpqzHiVn"
   },
   "source": [
    "Id товара. Пропусков нет. Всего 41302 значения. "
   ]
  },
  {
   "cell_type": "markdown",
   "metadata": {
    "id": "-cKxbDToHiVn"
   },
   "source": [
    "### 14. rating"
   ]
  },
  {
   "cell_type": "code",
   "execution_count": 32,
   "metadata": {
    "id": "DIicjLVhHiVo"
   },
   "outputs": [
    {
     "name": "stdout",
     "output_type": "stream",
     "text": [
      "count    847593.000000\n",
      "mean          0.848747\n",
      "std           0.358296\n",
      "min           0.000000\n",
      "25%           1.000000\n",
      "50%           1.000000\n",
      "75%           1.000000\n",
      "max           1.000000\n",
      "Name: rating, dtype: float64\n",
      "\n",
      "NAN-values: 0\n",
      "\n",
      "Values:\n",
      "1.0    0.848747\n",
      "0.0    0.151253\n",
      "Name: rating, dtype: float64\n",
      "\n"
     ]
    },
    {
     "data": {
      "image/png": "[encoded data removed]",
      "text/plain": [
       "<Figure size 432x288 with 1 Axes>"
      ]
     },
     "metadata": {
      "needs_background": "light"
     },
     "output_type": "display_data"
    }
   ],
   "source": [
    "column_info(\"rating\")"
   ]
  },
  {
   "cell_type": "code",
   "execution_count": 33,
   "metadata": {
    "id": "3VCAjKL-HiVo"
   },
   "outputs": [
    {
     "data": {
      "text/plain": [
       "(3.0    59795\n",
       " 1.0    37071\n",
       " 2.0    31335\n",
       " Name: overall, dtype: int64,\n",
       " 5.0    607524\n",
       " 4.0    111868\n",
       " Name: overall, dtype: int64)"
      ]
     },
     "execution_count": 33,
     "metadata": {},
     "output_type": "execute_result"
    }
   ],
   "source": [
    "df[df.rating == 0].overall.value_counts(\n",
    "), df[df.rating == 1].overall.value_counts()"
   ]
  },
  {
   "cell_type": "markdown",
   "metadata": {
    "id": "0qC5zaUIHiVo"
   },
   "source": [
    "Целевая переменная. Пропусков нет. 1 - товар понравился пользователю (оценка 4 или 5), 0 - не понравился(оценка 3, 2 и 1). "
   ]
  },
  {
   "cell_type": "markdown",
   "metadata": {
    "id": "GAvLWNp9HiVp"
   },
   "source": [
    "### 15. category"
   ]
  },
  {
   "cell_type": "code",
   "execution_count": 34,
   "metadata": {
    "id": "9rel2QipHiVp"
   },
   "outputs": [],
   "source": [
    "all_values = []\n",
    "for cat_list in df.category:\n",
    "    for cat in cat_list:\n",
    "        all_values.append(cat)\n",
    "all_values = pd.DataFrame(all_values, columns=[\"category\"])"
   ]
  },
  {
   "cell_type": "code",
   "execution_count": 35,
   "metadata": {
    "id": "METTb8QSHiVp"
   },
   "outputs": [
    {
     "data": {
      "text/plain": [
       "(1003,\n",
       " Grocery & Gourmet Food    847593\n",
       " Beverages                 226683\n",
       " Coffee, Tea & Cocoa       177340\n",
       " Cooking & Baking          164362\n",
       " Snack Foods               105355\n",
       "                            ...  \n",
       " Safflower                      4\n",
       " Havarti                        3\n",
       " Sofrito Sauce                  3\n",
       " Tomatillos                     2\n",
       " Tulips                         2\n",
       " Name: category, Length: 1003, dtype: int64)"
      ]
     },
     "execution_count": 35,
     "metadata": {},
     "output_type": "execute_result"
    }
   ],
   "source": [
    "all_values.category.nunique(), all_values.category.value_counts()"
   ]
  },
  {
   "cell_type": "markdown",
   "metadata": {
    "id": "rl-nmnY9HiVp"
   },
   "source": [
    "Признак содержит категории, к которым относится товар, всего имеется 1003 категории, наиболее часто встречающаяся - Grocery & Gourmet Food. "
   ]
  },
  {
   "cell_type": "markdown",
   "metadata": {
    "id": "N-DmWxs5HiVq"
   },
   "source": [
    "### 16. description"
   ]
  },
  {
   "cell_type": "code",
   "execution_count": 36,
   "metadata": {
    "id": "bNPhXwlMHiVq"
   },
   "outputs": [
    {
     "data": {
      "text/plain": [
       "['Torani Vanilla Syrup, Sugar Free, 25.4 Fl Oz',\n",
       " 'Statements regarding dietary supplements have not been evaluated by the FDA and are not intended to diagnose, treat, cure, or prevent any disease or health condition.']"
      ]
     },
     "execution_count": 36,
     "metadata": {},
     "output_type": "execute_result"
    }
   ],
   "source": [
    "df.description[100]"
   ]
  },
  {
   "cell_type": "markdown",
   "metadata": {},
   "source": [
    "Описание товара, есть пропуски."
   ]
  },
  {
   "cell_type": "code",
   "execution_count": 37,
   "metadata": {
    "id": "4fPqe-i3HiVq"
   },
   "outputs": [
    {
     "data": {
      "text/plain": [
       "71495"
      ]
     },
     "execution_count": 37,
     "metadata": {},
     "output_type": "execute_result"
    }
   ],
   "source": [
    "df.description.isna().sum()"
   ]
  },
  {
   "cell_type": "markdown",
   "metadata": {
    "id": "hqJZmWyhHiVr"
   },
   "source": [
    "### 17. title"
   ]
  },
  {
   "cell_type": "code",
   "execution_count": 38,
   "metadata": {
    "id": "QoYHC51-HiVr"
   },
   "outputs": [
    {
     "name": "stdout",
     "output_type": "stream",
     "text": [
      "count                                                847593\n",
      "unique                                                41149\n",
      "top       KIND Bars, Dark Chocolate Nuts & Sea Salt, Glu...\n",
      "freq                                                   7435\n",
      "Name: title, dtype: object\n",
      "\n",
      "NAN-values: 0\n",
      "\n",
      "Values:\n",
      "KIND Bars, Dark Chocolate Nuts & Sea Salt, Gluten Free, 1.4 Ounce Bars, 12 Count    0.008772\n",
      "KIND Bars, Dark Chocolate Chili Almond, Gluten Free, 1.4 Ounce Bars, 12 Count       0.005584\n",
      "Kind Bars, Madagascar Vanilla Almond, Gluten Free, Low Sugar, 1.4oz                 0.005440\n",
      "Twinings of London Pure Camomile Herbal Tea Bags, 20 Count                          0.005017\n",
      "KIND Bars, Caramel Almond and Sea Salt, Gluten Free, 1.4 Ounce Bars, 12 Count       0.003633\n",
      "                                                                                      ...   \n",
      "Novus Tea Dragonwell Green Tea, 12 Tea Pouches                                      0.000001\n",
      "12 DejaVu Espresso drinks, pods compatible with VERISMO system                      0.000001\n",
      "Marzetti Olive Garden Light Italian Salad Dressing, 16 oz                           0.000001\n",
      "Nestle Signature Turtles - 24 ct.                                                   0.000001\n",
      "Wafu Ginger Carrot Dressing, 9.8-Ounce Bottles (Pack of 4)                          0.000001\n",
      "Name: title, Length: 41149, dtype: float64\n",
      "\n"
     ]
    }
   ],
   "source": [
    "column_info(\"title\", hist_draw=False)"
   ]
  },
  {
   "cell_type": "markdown",
   "metadata": {
    "id": "6uIdYiGDHiVr"
   },
   "source": [
    "Название товара. Пропусков нет. 41149 уникальных значений."
   ]
  },
  {
   "cell_type": "markdown",
   "metadata": {
    "id": "wp5eARcZHiVs"
   },
   "source": [
    "### 18. brand"
   ]
  },
  {
   "cell_type": "code",
   "execution_count": 39,
   "metadata": {
    "id": "DD0lqTd0HiVs"
   },
   "outputs": [
    {
     "name": "stdout",
     "output_type": "stream",
     "text": [
      "count     841489\n",
      "unique      8866\n",
      "top         KIND\n",
      "freq       22506\n",
      "Name: brand, dtype: object\n",
      "\n",
      "NAN-values: 6104\n",
      "\n",
      "Values:\n",
      "KIND              0.026745\n",
      "Bob's Red Mill    0.015521\n",
      "Twinings          0.013288\n",
      "Planters          0.012340\n",
      "Frontier          0.008231\n",
      "                    ...   \n",
      "Novus Tea         0.000001\n",
      "Liberty           0.000001\n",
      "WAFU              0.000001\n",
      "SEA2O             0.000001\n",
      "Mayers            0.000001\n",
      "Name: brand, Length: 8866, dtype: float64\n",
      "\n"
     ]
    }
   ],
   "source": [
    "column_info(\"brand\", hist_draw=False)"
   ]
  },
  {
   "cell_type": "markdown",
   "metadata": {
    "id": "D4UyyB2lHiVt"
   },
   "source": [
    "Марка товара (бренд). Есть пропущенные значения. Самая популярная марка - KIND. "
   ]
  },
  {
   "cell_type": "markdown",
   "metadata": {
    "id": "X3Yw8lV3HiVt"
   },
   "source": [
    "### 19. rank"
   ]
  },
  {
   "cell_type": "code",
   "execution_count": 40,
   "metadata": {
    "id": "StmcV_eeHiVu"
   },
   "outputs": [
    {
     "data": {
      "text/plain": [
       "0          19,771inGroceryGourmetFood(\n",
       "1          19,771inGroceryGourmetFood(\n",
       "2          19,771inGroceryGourmetFood(\n",
       "3          19,771inGroceryGourmetFood(\n",
       "4          19,771inGroceryGourmetFood(\n",
       "                      ...             \n",
       "847588    212,433inGroceryGourmetFood(\n",
       "847589    150,108inGroceryGourmetFood(\n",
       "847590     14,497inGroceryGourmetFood(\n",
       "847591       443,322inHealthHousehold(\n",
       "847592     43,444inGroceryGourmetFood(\n",
       "Name: rank, Length: 847593, dtype: object"
      ]
     },
     "execution_count": 40,
     "metadata": {},
     "output_type": "execute_result"
    }
   ],
   "source": [
    "df[\"rank\"]"
   ]
  },
  {
   "cell_type": "code",
   "execution_count": 41,
   "metadata": {
    "id": "yiYLv0NJHiVu"
   },
   "outputs": [
    {
     "data": {
      "text/plain": [
       "34598"
      ]
     },
     "execution_count": 41,
     "metadata": {},
     "output_type": "execute_result"
    }
   ],
   "source": [
    "df[\"rank\"].isna().sum()"
   ]
  },
  {
   "cell_type": "markdown",
   "metadata": {
    "id": "7-8jck0tHiVu"
   },
   "source": [
    "Ранг товара в соответствующей категории. Есть пропуски. "
   ]
  },
  {
   "cell_type": "markdown",
   "metadata": {
    "id": "ScZp-DirHiVu"
   },
   "source": [
    "### 20. also_view"
   ]
  },
  {
   "cell_type": "code",
   "execution_count": 42,
   "metadata": {
    "id": "H9HMWInMHiVv"
   },
   "outputs": [
    {
     "data": {
      "text/plain": [
       "(384222, ['B006K3UC86', 'B000WGB3OY'])"
      ]
     },
     "execution_count": 42,
     "metadata": {},
     "output_type": "execute_result"
    }
   ],
   "source": [
    "df.also_view.isna().sum(), df.also_view[98]"
   ]
  },
  {
   "cell_type": "markdown",
   "metadata": {
    "id": "qfcanwMwHiVv"
   },
   "source": [
    "Рекомендации для товара (с этим товаром часто смотрят...) в виде списка asin, есть пропуски. "
   ]
  },
  {
   "cell_type": "markdown",
   "metadata": {
    "id": "eIdEugHTHiVv"
   },
   "source": [
    "### 21. main_cat"
   ]
  },
  {
   "cell_type": "code",
   "execution_count": 43,
   "metadata": {
    "id": "QgjNJXXrHiVw"
   },
   "outputs": [
    {
     "name": "stdout",
     "output_type": "stream",
     "text": [
      "count      846638\n",
      "unique         17\n",
      "top       Grocery\n",
      "freq       802613\n",
      "Name: main_cat, dtype: object\n",
      "\n",
      "NAN-values: 955\n",
      "\n",
      "Values:\n",
      "Grocery                      0.948000\n",
      "Health & Personal Care       0.037448\n",
      "Amazon Home                  0.008720\n",
      "All Beauty                   0.001798\n",
      "Sports & Outdoors            0.001561\n",
      "Industrial & Scientific      0.001065\n",
      "Office Products              0.000745\n",
      "Toys & Games                 0.000359\n",
      "Pet Supplies                 0.000148\n",
      "Tools & Home Improvement     0.000063\n",
      "Baby                         0.000040\n",
      "Arts, Crafts & Sewing        0.000022\n",
      "Home Audio & Theater         0.000011\n",
      "Camera & Photo               0.000009\n",
      "Software                     0.000004\n",
      "Musical Instruments          0.000004\n",
      "Cell Phones & Accessories    0.000002\n",
      "Name: main_cat, dtype: float64\n",
      "\n"
     ]
    }
   ],
   "source": [
    "column_info(\"main_cat\", hist_draw=False)"
   ]
  },
  {
   "cell_type": "markdown",
   "metadata": {
    "id": "KdSX4xD2HiVw"
   },
   "source": [
    "Основная категория товара (всего 17 разновидностей), есть пропуски, самая популярная категория - Grocery."
   ]
  },
  {
   "cell_type": "markdown",
   "metadata": {
    "id": "h06mSOhRHiVw"
   },
   "source": [
    "### 22. price"
   ]
  },
  {
   "cell_type": "code",
   "execution_count": 44,
   "metadata": {
    "id": "rPt4areRHiVw"
   },
   "outputs": [
    {
     "name": "stdout",
     "output_type": "stream",
     "text": [
      "count     588972\n",
      "unique      4601\n",
      "top       $14.99\n",
      "freq       14241\n",
      "Name: price, dtype: object\n",
      "\n",
      "NAN-values: 258621\n",
      "\n",
      "Values:\n",
      "$14.99              0.024179\n",
      "$13.67              0.018099\n",
      "$19.99              0.015354\n",
      "$14.79              0.009562\n",
      "$15.53              0.009442\n",
      "                      ...   \n",
      "$30.05              0.000003\n",
      "$35.16              0.000002\n",
      "$19.99 - $295.00    0.000002\n",
      "$44.14              0.000002\n",
      "$6.93               0.000002\n",
      "Name: price, Length: 4601, dtype: float64\n",
      "\n"
     ]
    }
   ],
   "source": [
    "column_info(\"price\", hist_draw=False)"
   ]
  },
  {
   "cell_type": "markdown",
   "metadata": {
    "id": "o2cM_tJ1HiVx"
   },
   "source": [
    "Стоимость товара в долларах, есть пропуски. "
   ]
  },
  {
   "cell_type": "markdown",
   "metadata": {
    "id": "smajM7SjHiVx"
   },
   "source": [
    "### 23. also_buy"
   ]
  },
  {
   "cell_type": "code",
   "execution_count": 45,
   "metadata": {
    "id": "VvaXEKHIHiVx"
   },
   "outputs": [
    {
     "data": {
      "text/plain": [
       "(120735,\n",
       " ['B000R7XBF2', 'B000HIFA8W', 'B000R7RODW', 'B07BDQGY1S', 'B072M1NC4M'])"
      ]
     },
     "execution_count": 45,
     "metadata": {},
     "output_type": "execute_result"
    }
   ],
   "source": [
    "df.also_buy.isna().sum(), df.also_buy[987][0:5]"
   ]
  },
  {
   "cell_type": "markdown",
   "metadata": {
    "id": "BBWliGd2HiVx"
   },
   "source": [
    "Рекомендации для товара (с этим товаром часто покупают...) в виде списка asin, есть пропуски. "
   ]
  },
  {
   "cell_type": "markdown",
   "metadata": {
    "id": "oENd9TF9HiVy"
   },
   "source": [
    "### 24. image_y"
   ]
  },
  {
   "cell_type": "code",
   "execution_count": 46,
   "metadata": {
    "id": "y85ptWM-HiVy"
   },
   "outputs": [
    {
     "data": {
      "text/plain": [
       "(92239,\n",
       " ['https://images-na.ssl-images-amazon.com/images/I/315GMJ26auL._SS40_.jpg',\n",
       "  'https://images-na.ssl-images-amazon.com/images/I/31pJAJhX22L._SS40_.jpg',\n",
       "  'https://images-na.ssl-images-amazon.com/images/I/51UZ1D3htOL._SS40_.jpg',\n",
       "  'https://images-na.ssl-images-amazon.com/images/I/5169QbtJl5L._SS40_.jpg'])"
      ]
     },
     "execution_count": 46,
     "metadata": {},
     "output_type": "execute_result"
    }
   ],
   "source": [
    "df.image_y.isna().sum(), df.image_y[500]"
   ]
  },
  {
   "cell_type": "markdown",
   "metadata": {
    "id": "e9bXKi4UHiVy"
   },
   "source": [
    "Ссылки на изображения товаров, есть пропуски. "
   ]
  },
  {
   "cell_type": "markdown",
   "metadata": {
    "id": "dV0PvRyxHiVy"
   },
   "source": [
    "### 25. date"
   ]
  },
  {
   "cell_type": "code",
   "execution_count": 47,
   "metadata": {
    "id": "FvWI_rFhHiVz"
   },
   "outputs": [
    {
     "name": "stdout",
     "output_type": "stream",
     "text": [
      "count               12087\n",
      "unique                417\n",
      "top       January 1, 2006\n",
      "freq                  561\n",
      "Name: date, dtype: object\n",
      "\n",
      "NAN-values: 835506\n",
      "\n",
      "Values:\n",
      "January 1, 2006      0.046414\n",
      "May 5, 2003          0.035410\n",
      "October 29, 2003     0.035079\n",
      "January 7, 2008      0.030777\n",
      "March 10, 2004       0.024324\n",
      "                       ...   \n",
      "August 2, 2008       0.000165\n",
      "December 21, 2007    0.000165\n",
      "February 21, 2015    0.000083\n",
      "February 13, 2008    0.000083\n",
      "January 18, 2008     0.000083\n",
      "Name: date, Length: 417, dtype: float64\n",
      "\n"
     ]
    }
   ],
   "source": [
    "column_info(\"date\", hist_draw=False)"
   ]
  },
  {
   "cell_type": "markdown",
   "metadata": {
    "id": "NqLhwZTfHiVz"
   },
   "source": [
    "Признак даты отзыва в формате (месяц число, год), много пропусков"
   ]
  },
  {
   "cell_type": "markdown",
   "metadata": {
    "id": "pHR20491HiVz"
   },
   "source": [
    "### 26. feature"
   ]
  },
  {
   "cell_type": "code",
   "execution_count": 48,
   "metadata": {
    "id": "L01JDo0kHiVz"
   },
   "outputs": [
    {
     "data": {
      "text/plain": [
       "0.8316007800913882"
      ]
     },
     "execution_count": 48,
     "metadata": {},
     "output_type": "execute_result"
    }
   ],
   "source": [
    "df.feature.isna().sum()/df.shape[0]"
   ]
  },
  {
   "cell_type": "markdown",
   "metadata": {
    "id": "2I0CPY4cHiV0"
   },
   "source": [
    "Дополнительные признаки, много пропусков."
   ]
  },
  {
   "cell_type": "markdown",
   "metadata": {
    "id": "fXV6ExYPHiV0"
   },
   "source": [
    "### 27. details"
   ]
  },
  {
   "cell_type": "code",
   "execution_count": 49,
   "metadata": {
    "id": "_3cheik_HiV0"
   },
   "outputs": [
    {
     "data": {
      "text/plain": [
       "'\\n      <div class=\"content\">\\n\\n\\n\\n\\n\\n\\n<ul>\\n\\n\\n\\n\\n\\n\\n\\n\\n\\n\\n\\n\\n\\n                                                                                \\n\\n\\n    <li><b>\\n    Product Dimensions: \\n    </b>\\n    1.8 x 4.5 x 1.8 inches ; 7.4 ounces\\n    </li>\\n\\n\\n\\n\\n\\n\\n\\n\\n<li><b>Shipping Weight:</b> 8 ounces (<a href=\"/gp/help/sell'"
      ]
     },
     "execution_count": 49,
     "metadata": {},
     "output_type": "execute_result"
    }
   ],
   "source": [
    "df.details[0][0:300]"
   ]
  },
  {
   "cell_type": "markdown",
   "metadata": {
    "id": "1rqhMU40HiV0"
   },
   "source": [
    "Дополнительный признак (похоже на код страницы в сети)"
   ]
  },
  {
   "cell_type": "markdown",
   "metadata": {
    "id": "rE0T_ydmHiV1"
   },
   "source": [
    "### 28. similar_item"
   ]
  },
  {
   "cell_type": "code",
   "execution_count": 50,
   "metadata": {
    "id": "AyrGHVFOHiV1"
   },
   "outputs": [
    {
     "data": {
      "text/plain": [
       "0.998657374471002"
      ]
     },
     "execution_count": 50,
     "metadata": {},
     "output_type": "execute_result"
    }
   ],
   "source": [
    "df.similar_item.isna().sum()/df.shape[0]"
   ]
  },
  {
   "cell_type": "markdown",
   "metadata": {
    "id": "WiJWLCHYHiV1"
   },
   "source": [
    "Почти вся информация - пропуски"
   ]
  },
  {
   "cell_type": "markdown",
   "metadata": {
    "id": "oLZ8Y2fOHiV1"
   },
   "source": [
    "### 29. tech1\n"
   ]
  },
  {
   "cell_type": "code",
   "execution_count": 51,
   "metadata": {
    "id": "iY0bFb8AHiV2"
   },
   "outputs": [
    {
     "data": {
      "text/plain": [
       "0.9948418639606509"
      ]
     },
     "execution_count": 51,
     "metadata": {},
     "output_type": "execute_result"
    }
   ],
   "source": [
    "df.tech1.isna().sum()/df.shape[0]"
   ]
  },
  {
   "cell_type": "markdown",
   "metadata": {
    "id": "jxB3OzSUHiV2"
   },
   "source": [
    "Почти вся информация - пропуски"
   ]
  },
  {
   "cell_type": "markdown",
   "metadata": {
    "id": "OEexkAnSHiV2"
   },
   "source": [
    "### 30. fit"
   ]
  },
  {
   "cell_type": "code",
   "execution_count": 52,
   "metadata": {
    "id": "qa5zMs3vHiV2"
   },
   "outputs": [
    {
     "data": {
      "text/plain": [
       "1.0"
      ]
     },
     "execution_count": 52,
     "metadata": {},
     "output_type": "execute_result"
    }
   ],
   "source": [
    "df.fit.isna().sum()/df.shape[0]"
   ]
  },
  {
   "cell_type": "markdown",
   "metadata": {
    "id": "aOReEH_cHiV3"
   },
   "source": [
    "Вся информация - пропуски"
   ]
  },
  {
   "cell_type": "markdown",
   "metadata": {
    "id": "QpKoh2RtHiV3"
   },
   "source": [
    "Выясним, есть ли статистическая разница в распределении оценок по номинативным признакам, с помощью теста Стьюдента:"
   ]
  },
  {
   "cell_type": "code",
   "execution_count": 53,
   "metadata": {
    "id": "Oz3L6sApHiV3"
   },
   "outputs": [],
   "source": [
    "from itertools import combinations\n",
    "from scipy.stats import ttest_ind"
   ]
  },
  {
   "cell_type": "code",
   "execution_count": 54,
   "metadata": {
    "id": "wF6xJBVKHiV4"
   },
   "outputs": [],
   "source": [
    "def get_stat_dif(column):\n",
    "    cols = df.loc[:, column].value_counts().index[:10]\n",
    "    combinations_all = list(combinations(cols, 2))\n",
    "    for comb in combinations_all:\n",
    "        if ttest_ind(df.loc[df.loc[:, column] == comb[0], 'overall'],\n",
    "                     df.loc[df.loc[:, column] == comb[1], 'overall']).pvalue \\\n",
    "                <= 0.05/len(combinations_all):  # Учли поправку Бонферони\n",
    "            print('Найдены статистически значимые различия для колонки', column)\n",
    "            break"
   ]
  },
  {
   "cell_type": "code",
   "execution_count": 55,
   "metadata": {
    "id": "dR9OZS0EHiV4"
   },
   "outputs": [
    {
     "name": "stdout",
     "output_type": "stream",
     "text": [
      "Найдены статистически значимые различия для колонки verified\n",
      "Найдены статистически значимые различия для колонки vote\n",
      "Найдены статистически значимые различия для колонки rank\n",
      "Найдены статистически значимые различия для колонки main_cat\n",
      "Найдены статистически значимые различия для колонки price\n"
     ]
    }
   ],
   "source": [
    "for col in ['verified', 'unixReviewTime', 'vote', 'rank', 'main_cat', 'price']:\n",
    "    get_stat_dif(col)"
   ]
  },
  {
   "cell_type": "markdown",
   "metadata": {
    "id": "JF-JTrkQHiV4"
   },
   "source": [
    "Как видно, статистическая разница обнаруживается для всех шести признаков, а значит, их можно включить в модель. "
   ]
  },
  {
   "cell_type": "markdown",
   "metadata": {
    "id": "RCPeBUf4HiV4"
   },
   "source": [
    "### Выводы\n",
    "\n",
    "Проведен EDA. Выбраны признаки, добавление которых в модель окажет положительное влияние на метрики. "
   ]
  },
  {
   "cell_type": "markdown",
   "metadata": {
    "id": "bu6OYnF8HiV5"
   },
   "source": [
    "Признаки, которые можно взять в модель:\n",
    "\n",
    "verified, price, rank, userid, itemid, rating, vote, unixReviewTime, main_cat"
   ]
  },
  {
   "cell_type": "markdown",
   "metadata": {
    "id": "85Epq0XsHiV5"
   },
   "source": [
    "## Base model with default params"
   ]
  },
  {
   "cell_type": "code",
   "execution_count": 56,
   "metadata": {
    "id": "EA6NYk-gHiV5"
   },
   "outputs": [
    {
     "name": "stderr",
     "output_type": "stream",
     "text": [
      "/opt/conda/lib/python3.7/site-packages/IPython/core/interactiveshell.py:3063: DtypeWarning: Columns (8) have mixed types.Specify dtype option on import or set low_memory=False.\n",
      "  interactivity=interactivity, compiler=compiler, result=result)\n"
     ]
    }
   ],
   "source": [
    "train = pd.read_csv('../input/recommendationsv4/train.csv')\n",
    "# delete duplicates\n",
    "train.drop_duplicates(inplace=True)\n",
    "# build user-item interactions matrix\n",
    "ratings_coo = sparse.coo_matrix(\n",
    "    (train['rating'].astype(int), (train['userid'], train['itemid'])))"
   ]
  },
  {
   "cell_type": "code",
   "execution_count": 57,
   "metadata": {
    "id": "rhqPNICEHiV5",
    "outputId": "0159820e-403a-4b09-f8b8-b275210197c7"
   },
   "outputs": [
    {
     "name": "stdout",
     "output_type": "stream",
     "text": [
      "total time: 4.53 sec.\n"
     ]
    }
   ],
   "source": [
    "start_time = time.time()\n",
    "NUM_THREADS = 2  # number of threads\n",
    "NUM_COMPONENTS = 20  # number of vector components\n",
    "NUM_EPOCHS = 10  # number of learning epochs\n",
    "\n",
    "# split ratings to train and test\n",
    "train_rating_coo, test_rating_coo = random_train_test_split(ratings_coo)\n",
    "\n",
    "# define model and train\n",
    "model = LightFM(learning_rate=0.1, loss='logistic',\n",
    "                no_components=NUM_COMPONENTS)\n",
    "model = model.fit(train_rating_coo, epochs=NUM_EPOCHS, num_threads=NUM_THREADS)\n",
    "\n",
    "# make predictions with test\n",
    "preds = model.predict(test_rating_coo.row, test_rating_coo.col)\n",
    "print(\"total time:\", round(time.time() - start_time, 2), \"sec.\")"
   ]
  },
  {
   "cell_type": "code",
   "execution_count": 58,
   "metadata": {
    "id": "LcCdogr6HiV6"
   },
   "outputs": [
    {
     "data": {
      "text/plain": [
       "'\\n# calculating metrics (ROC-AUC, precision_at_k, recall_at_k) and measuring execution time\\nstart_time = time.time()\\nprint(\\n    f\\'ROC-AUC (sklearn) = {sklearn.metrics.roc_auc_score(test_rating_coo.data,preds)}\\')\\nprint(\"total time:\", round(time.time() - start_time, 2), \"sec.\")\\nstart_time = time.time()\\nprint(\\n    f\\'ROC-AUC (LFM) = {auc_score(model=model, test_interactions=test_rating_coo).mean()}\\')\\nprint(\"total time:\", round(time.time() - start_time, 2), \"sec.\")\\nstart_time = time.time()\\nprint(\\n    f\\'Precision_at_k (LFM) = {precision_at_k(model=model, test_interactions=test_rating_coo, k=5).mean()}\\')\\nprint(\"total time:\", round(time.time() - start_time, 2), \"sec.\")\\nstart_time = time.time()\\nprint(\\n    f\\'Recall_at_k (LFM) = {recall_at_k(model=model, test_interactions=test_rating_coo, k=5).mean()}\\')\\nprint(\"total time:\", round(time.time() - start_time, 2), \"sec.\")\\n'"
      ]
     },
     "execution_count": 58,
     "metadata": {},
     "output_type": "execute_result"
    }
   ],
   "source": [
    "'''\n",
    "# calculating metrics (ROC-AUC, precision_at_k, recall_at_k) and measuring execution time\n",
    "start_time = time.time()\n",
    "print(\n",
    "    f'ROC-AUC (sklearn) = {sklearn.metrics.roc_auc_score(test_rating_coo.data,preds)}')\n",
    "print(\"total time:\", round(time.time() - start_time, 2), \"sec.\")\n",
    "start_time = time.time()\n",
    "print(\n",
    "    f'ROC-AUC (LFM) = {auc_score(model=model, test_interactions=test_rating_coo).mean()}')\n",
    "print(\"total time:\", round(time.time() - start_time, 2), \"sec.\")\n",
    "start_time = time.time()\n",
    "print(\n",
    "    f'Precision_at_k (LFM) = {precision_at_k(model=model, test_interactions=test_rating_coo, k=5).mean()}')\n",
    "print(\"total time:\", round(time.time() - start_time, 2), \"sec.\")\n",
    "start_time = time.time()\n",
    "print(\n",
    "    f'Recall_at_k (LFM) = {recall_at_k(model=model, test_interactions=test_rating_coo, k=5).mean()}')\n",
    "print(\"total time:\", round(time.time() - start_time, 2), \"sec.\")\n",
    "'''"
   ]
  },
  {
   "cell_type": "markdown",
   "metadata": {
    "id": "xAOfEv49HiV6"
   },
   "source": [
    "### Результаты \n",
    "\n",
    "* model fit-predict = (5 sec.)\n",
    "* ROC-AUC (sklearn) = 0.72814 (0.07 sec.)\n",
    "* ROC-AUC (LFM) = 0.71985 (192 sec.)\n",
    "* Precision_at_k (LFM) = 0.01306 (176 sec.)\n",
    "* Recall_at_k (LFM) = 0.04045 (196 sec.)\n",
    "\n",
    "Можно видеть, что метрики ROC-AUC практически одинаковы для обеих библиотек, однако время подсчёта отличается \n",
    "на порядки. В среднем, вычисление всех трех метрик встроенными функциями библиотеки LightFm происходит за время\n",
    "около трёх минут каждая, что почти в 40 раз превышает время обучения модели и предсказания. В дальнейшем при подборе гиперпараметров для экономии времени будем вычислять только \n",
    "ROC-AUC, а другие метрики - только лишь для финальной модели. "
   ]
  },
  {
   "cell_type": "markdown",
   "metadata": {
    "id": "eKYZtU65HiV7"
   },
   "source": [
    "## Hyperparameters"
   ]
  },
  {
   "cell_type": "markdown",
   "metadata": {
    "id": "pkHvnK9wHiV7"
   },
   "source": [
    "Попробуем теперь улучшить метрики за счёт подбора гиперпараметров. Используем самописный перебор по сетке параметров. \n",
    "\n",
    "Варьировать будем параметры: \n",
    "* loss_types = {\"logistic\", \"warp\"}\n",
    "* n_components = {20, 25, 30, 35}\n",
    "* n_epochs = {5, 10, 15, 20}\n",
    "\n",
    "Параметр, отвечающий за число кросс-валидаций выберем равным 3. Затем выберем оптимальную модель из условия наилучшего среднего значения усредненной метрики ROC-AUC. "
   ]
  },
  {
   "cell_type": "code",
   "execution_count": 59,
   "metadata": {
    "id": "xKcQbHa0HiV7"
   },
   "outputs": [],
   "source": [
    "def solve(n_treads, n_components, n_epochs, loss_type, train_rating_coo, test_rating_coo):\n",
    "    \"\"\"function returns ROC_AUC score for current model\"\"\"\n",
    "    model = LightFM(learning_rate=0.1, loss=loss_type,\n",
    "                    no_components=n_components)\n",
    "    model = model.fit(train_rating_coo, epochs=n_epochs, num_threads=n_treads)\n",
    "    preds = model.predict(test_rating_coo.row, test_rating_coo.col)\n",
    "    return sklearn.metrics.roc_auc_score(test_rating_coo.data, preds)\n",
    "\n",
    "\n",
    "def solve_metrics(n_treads, n_components, n_epochs, loss_type, train_rating_coo, test_rating_coo):\n",
    "    \"\"\"function returns precision and recall at_k score for current model\"\"\"\n",
    "    model = LightFM(learning_rate=0.1, loss=loss_type,\n",
    "                    no_components=n_components)\n",
    "    model = model.fit(train_rating_coo, epochs=n_epochs, num_threads=n_treads)\n",
    "    start_time = time.time()\n",
    "    pr_at_k = precision_at_k(\n",
    "        model=model, test_interactions=test_rating_coo, k=5).mean()\n",
    "    print(f'Precision_at_k (LFM) = {pr_at_k}')\n",
    "    print(\"total time:\", round(time.time() - start_time, 2), \"sec.\")\n",
    "    start_time = time.time()\n",
    "    rc_at_k = recall_at_k(\n",
    "        model=model, test_interactions=test_rating_coo, k=5).mean()\n",
    "    print(f'Recall_at_k (LFM) = {rc_at_k}')\n",
    "    print(\"total time:\", round(time.time() - start_time, 2), \"sec.\")\n",
    "    return pr_at_k, rc_at_k\n",
    "\n",
    "\n",
    "def submission_best(loss_type, components, epochs_val, threads):\n",
    "    model = LightFM(learning_rate=0.1, loss=loss_type,\n",
    "                    no_components=components)\n",
    "    model = model.fit(ratings_coo, epochs=epochs_val, num_threads=threads)\n",
    "    preds = model.predict(test.userid.values, test.itemid.values)\n",
    "    preds = (preds - preds.min())/(preds.max() - preds.min())\n",
    "    submission['rating'] = preds\n",
    "    submission.to_csv('submission_base.csv', index=False)\n",
    "    print(\"Submission successifully wrote in file\")\n",
    "\n",
    "\n",
    "def write_model_embeddings(loss_type, components, epochs_val, threads):\n",
    "    \"\"\"function writes model and embeddings in files\"\"\"\n",
    "    model = LightFM(learning_rate=0.1, loss=loss_type,\n",
    "                    no_components=components)\n",
    "    model = model.fit(ratings_coo, epochs=epochs_val, num_threads=threads)\n",
    "    item_biases, item_embeddings = model.get_item_representations()\n",
    "    user_biases, user_embeddings = model.get_user_representations()\n",
    "    names = [\"item_embeddings\", \"user_embeddings\", \"model\"]\n",
    "    data = [item_embeddings, user_embeddings, model]\n",
    "    for idx, name in enumerate(names):\n",
    "        with open(name + '.pkl', 'wb') as file:\n",
    "            pickle.dump(data[idx], file)\n",
    "            file.close()"
   ]
  },
  {
   "cell_type": "code",
   "execution_count": 60,
   "metadata": {
    "id": "5ueJfQU8HiWD"
   },
   "outputs": [
    {
     "data": {
      "text/plain": [
       "'\\nloss_types = [\"logistic\", \"warp\"]\\nn_treads = 4\\nn_components = [i for i in range(20, 100, 5)]\\nn_epochs = [i for i in range(5, 25, 5)]\\nn_cv = 3\\nresult = pd.DataFrame(\\n    columns=[\\'n_comp\\', \\'n_epochs\\', \\'loss_type\\', \\'roc_auc\\', \\'aver_roc_auc\\'])\\nidx = 0\\nall_iters = len(n_components) * len(n_epochs) * len(loss_types)\\nstart_time = time.time()\\nfor components in n_components:\\n    for epochs in n_epochs:\\n        for loss in loss_types:\\n            roc_auc = []\\n            models = []\\n            for _ in range(n_cv):\\n                train_rating_coo, test_rating_coo = random_train_test_split(\\n                    ratings_coo)\\n                answer = solve(n_treads, components, epochs, loss,\\n                               train_rating_coo, test_rating_coo)\\n                roc_auc.append(round(answer, 5))\\n            aver_roc_auc = round(sum(roc_auc) / len(roc_auc), 4)\\n            idx = idx + 1\\n            new = pd.DataFrame(\\n                [[components, epochs, loss, roc_auc, aver_roc_auc]], columns=result.columns)\\n            result = pd.concat([result, new])\\n            print(\\n                f\"Progress: {idx}/{all_iters} ({round(100 * idx / all_iters,1)}%)\", end=\\'\\r\\')\\nend_time = time.time()\\nresult.index = [i + 1 for i in range(idx)]\\nresult.sort_values(by=[\\'aver_roc_auc\\'], ascending=False, inplace=True)\\nresult.to_csv(\\'result_cv.csv\\')\\nbest = result.iloc[0].values\\nbest_comp = best[0]\\nbest_epochs = best[1]\\nbest_loss = best[2]\\nprint(\"Cross-validation best params:\")\\nprint(f\"n_components: {best_comp}\")\\nprint(f\"n_epochs: {best_epochs}\")\\nprint(f\"loss_type: {best_loss}\")\\nprint(\"total time:\", round(end_time - start_time, 2), \"sec.\")\\n'"
      ]
     },
     "execution_count": 60,
     "metadata": {},
     "output_type": "execute_result"
    }
   ],
   "source": [
    "'''\n",
    "loss_types = [\"logistic\", \"warp\"]\n",
    "n_treads = 4\n",
    "n_components = [i for i in range(20, 100, 5)]\n",
    "n_epochs = [i for i in range(5, 25, 5)]\n",
    "n_cv = 3\n",
    "result = pd.DataFrame(\n",
    "    columns=['n_comp', 'n_epochs', 'loss_type', 'roc_auc', 'aver_roc_auc'])\n",
    "idx = 0\n",
    "all_iters = len(n_components) * len(n_epochs) * len(loss_types)\n",
    "start_time = time.time()\n",
    "for components in n_components:\n",
    "    for epochs in n_epochs:\n",
    "        for loss in loss_types:\n",
    "            roc_auc = []\n",
    "            models = []\n",
    "            for _ in range(n_cv):\n",
    "                train_rating_coo, test_rating_coo = random_train_test_split(\n",
    "                    ratings_coo)\n",
    "                answer = solve(n_treads, components, epochs, loss,\n",
    "                               train_rating_coo, test_rating_coo)\n",
    "                roc_auc.append(round(answer, 5))\n",
    "            aver_roc_auc = round(sum(roc_auc) / len(roc_auc), 4)\n",
    "            idx = idx + 1\n",
    "            new = pd.DataFrame(\n",
    "                [[components, epochs, loss, roc_auc, aver_roc_auc]], columns=result.columns)\n",
    "            result = pd.concat([result, new])\n",
    "            print(\n",
    "                f\"Progress: {idx}/{all_iters} ({round(100 * idx / all_iters,1)}%)\", end='\\r')\n",
    "end_time = time.time()\n",
    "result.index = [i + 1 for i in range(idx)]\n",
    "result.sort_values(by=['aver_roc_auc'], ascending=False, inplace=True)\n",
    "result.to_csv('result_cv.csv')\n",
    "best = result.iloc[0].values\n",
    "best_comp = best[0]\n",
    "best_epochs = best[1]\n",
    "best_loss = best[2]\n",
    "print(\"Cross-validation best params:\")\n",
    "print(f\"n_components: {best_comp}\")\n",
    "print(f\"n_epochs: {best_epochs}\")\n",
    "print(f\"loss_type: {best_loss}\")\n",
    "print(\"total time:\", round(end_time - start_time, 2), \"sec.\")\n",
    "'''"
   ]
  },
  {
   "cell_type": "markdown",
   "metadata": {
    "id": "AqTUi9kpHiWI"
   },
   "source": [
    "Из параметров перебора оптимальными стали:\n",
    "* loss_types = \"logistic\"\n",
    "* n_components = 60\n",
    "* n_epochs = 15\n",
    "\n",
    "Усредненое значение метрики ROC-AUC = 0.7291, что является улучшением результата, полученного с базовыми параметрами. "
   ]
  },
  {
   "cell_type": "markdown",
   "metadata": {
    "id": "wZDfwTZIHiWI"
   },
   "source": [
    "Подсчитаем среднее значение метрик precision and recall at_k для полученных параметров:"
   ]
  },
  {
   "cell_type": "code",
   "execution_count": 61,
   "metadata": {
    "id": "sQbHIFIrHiWI"
   },
   "outputs": [
    {
     "data": {
      "text/plain": [
       "'\\nprec_at_k = []\\nrec_at_k = []\\nfor _ in range(n_cv):\\n    train_rating_coo, test_rating_coo = random_train_test_split(ratings_coo)\\n    answer = solve_metrics(n_treads, best_comp, best_epochs,\\n                           best_loss, train_rating_coo, test_rating_coo)\\n    prec_at_k.append(round(answer[0], 5))\\n    rec_at_k.append(round(answer[1], 5))\\naver_pr_at_k = round(sum(prec_at_k) / len(prec_at_k), 4)\\naver_rc_at_k = round(sum(rec_at_k) / len(rec_at_k), 4)\\n'"
      ]
     },
     "execution_count": 61,
     "metadata": {},
     "output_type": "execute_result"
    }
   ],
   "source": [
    "'''\n",
    "prec_at_k = []\n",
    "rec_at_k = []\n",
    "for _ in range(n_cv):\n",
    "    train_rating_coo, test_rating_coo = random_train_test_split(ratings_coo)\n",
    "    answer = solve_metrics(n_treads, best_comp, best_epochs,\n",
    "                           best_loss, train_rating_coo, test_rating_coo)\n",
    "    prec_at_k.append(round(answer[0], 5))\n",
    "    rec_at_k.append(round(answer[1], 5))\n",
    "aver_pr_at_k = round(sum(prec_at_k) / len(prec_at_k), 4)\n",
    "aver_rc_at_k = round(sum(rec_at_k) / len(rec_at_k), 4)\n",
    "'''"
   ]
  },
  {
   "cell_type": "markdown",
   "metadata": {
    "id": "0atmmejgHiWJ"
   },
   "source": [
    "### Результаты\n",
    "\n",
    "* Precision_at_k (LFM) = 0.0165\n",
    "* Recall_at_k (LFM) = 0.0500\n",
    "\n",
    "Можно видеть, что значение метрик precision и recall at_k также улучшились по сравнению с базовыми параметрами "
   ]
  },
  {
   "cell_type": "markdown",
   "metadata": {
    "id": "bzOuq1jRHiWJ"
   },
   "source": [
    "### Выводы\n",
    "\n",
    "построена базовая модель, основанная на матрице взаимодействий user-item. Проведен подбор гиперпараметров,который показал улучшение значений метрик ROC-AUC, precision_at_k, recall_at_k. Значение метрики ROC-AUC, полученное в соревновании kaggle равно 0.76859. "
   ]
  },
  {
   "cell_type": "code",
   "execution_count": null,
   "metadata": {},
   "outputs": [],
   "source": [
    "'''\n",
    "# make submission with optimal parametres\n",
    "submission_best(best_loss, best_comp, best_epochs, n_treads)\n",
    "'''"
   ]
  },
  {
   "cell_type": "markdown",
   "metadata": {
    "id": "00FdAjF-HiWK"
   },
   "source": [
    "## Prototype prepare"
   ]
  },
  {
   "cell_type": "markdown",
   "metadata": {
    "id": "czxKuIr5HiWK"
   },
   "source": [
    "\n",
    "Запишем файлы модели и представления user и item в файлы:"
   ]
  },
  {
   "cell_type": "code",
   "execution_count": 63,
   "metadata": {
    "id": "BUgVoRdCHiWL"
   },
   "outputs": [],
   "source": [
    "write_model_embeddings(\"logistic\", 60, 15, 4)"
   ]
  },
  {
   "cell_type": "markdown",
   "metadata": {
    "id": "-2oIWNFUHiWL"
   },
   "source": [
    "Загрузим данные о товарах:"
   ]
  },
  {
   "cell_type": "markdown",
   "metadata": {
    "id": "2MZmPZcCHiWM"
   },
   "source": [
    "Сформируем датафрейм items, куда для каждого item запишем общее число отзывов (Reviews), asin (Amazon Standard Identification Number) и среднюю оценку (aver_mark):"
   ]
  },
  {
   "cell_type": "code",
   "execution_count": null,
   "metadata": {},
   "outputs": [],
   "source": [
    "meta = []\n",
    "with open('../input/recommendationsv4/meta_Grocery_and_Gourmet_Food.json', 'r') as file:\n",
    "    for line in file:\n",
    "        meta.append(json.loads(line))\n",
    "file.close()"
   ]
  },
  {
   "cell_type": "code",
   "execution_count": null,
   "metadata": {
    "id": "MaTeeq_iHiWM"
   },
   "outputs": [],
   "source": [
    "items = train[['itemid', 'unixReviewTime']].groupby('itemid').count()\n",
    "items['asin'] = train[['itemid', 'asin']].groupby('itemid').first()\n",
    "items.columns = ['Reviews', 'asin']\n",
    "items['aver_mark'] = train[['itemid', 'overall']].groupby('itemid').mean()\n",
    "items['item_id'] = items.index"
   ]
  },
  {
   "cell_type": "markdown",
   "metadata": {
    "id": "MZJx0_FWHiWN"
   },
   "source": [
    "Добавим также имя для каждого item, соединив items и meta по полю asin и сохраним в файл: "
   ]
  },
  {
   "cell_type": "code",
   "execution_count": null,
   "metadata": {
    "id": "NyS04ZMaHiWO"
   },
   "outputs": [],
   "source": [
    "meta = pd.DataFrame(meta)[[\"title\", \"asin\"]]\n",
    "meta.drop_duplicates(subset=['asin'], keep='last', inplace=True)\n",
    "items = items.merge(meta, how='left')\n",
    "items.to_csv('items.csv')"
   ]
  },
  {
   "cell_type": "markdown",
   "metadata": {
    "id": "89x18QIVHiWO"
   },
   "source": [
    "Построим и сохраним в файлы графы для быстрого поиска "
   ]
  },
  {
   "cell_type": "code",
   "execution_count": null,
   "metadata": {
    "id": "BCg92ZpeHiWO"
   },
   "outputs": [],
   "source": [
    "names = [\"item_embeddings\", \"user_embeddings\"]\n",
    "out_names = [\"item_graph\", \"user_graph\"]\n",
    "for idx, name in enumerate(names):\n",
    "    with open(name + '.pkl', 'rb') as file:\n",
    "        embeddings = pickle.load(file)\n",
    "        file.close()\n",
    "    search_graph_item = nmslib.init(method='hnsw', space='cosinesimil')\n",
    "    search_graph_item.addDataPointBatch(embeddings)\n",
    "    search_graph_item.createIndex()\n",
    "    search_graph_item.saveIndex(out_names[idx] + \".hnsw\")"
   ]
  },
  {
   "cell_type": "markdown",
   "metadata": {
    "id": "7z4G8tLVHiWP"
   },
   "source": [
    "Напишем пробный вариант поиска рекомендаций для item и user, из которого затем создадим прототип в heroku:"
   ]
  },
  {
   "cell_type": "code",
   "execution_count": null,
   "metadata": {
    "id": "gj-f8s0GHiWP",
    "outputId": "94ba2767-eb3f-45d2-f07c-6d77160284d3"
   },
   "outputs": [],
   "source": [
    "def get_titles(items_list, items):\n",
    "    result = pd.DataFrame(items[items.item_id.isin(items_list)].title)\n",
    "    result.index = [i + 1 for i in range(len(items_list))]\n",
    "    return result\n",
    "\n",
    "\n",
    "def nearest(id, embeddings, graph, n=5):\n",
    "    # n+1 because id includes in nearest list too\n",
    "    return graph.knnQuery(embeddings[id], k=n+1)[0][1:]\n",
    "\n",
    "\n",
    "def load_embeddings(name):\n",
    "    # load embeddings\n",
    "    with open(name, 'rb') as file:\n",
    "        embeddings = pickle.load(file)\n",
    "        file.close()\n",
    "    return embeddings\n",
    "\n",
    "\n",
    "def load_items():\n",
    "    # load items\n",
    "    return pd.read_csv('items.csv')\n",
    "\n",
    "\n",
    "item_embeddings = load_embeddings('item_embeddings.pkl')\n",
    "items = load_items()\n",
    "search_graph_item = nmslib.init()\n",
    "search_graph_item.loadIndex(\"item_graph.hnsw\")\n",
    "\n",
    "n_recommends = 10\n",
    "\n",
    "# find nearest items:\n",
    "item_values = list(items.item_id)\n",
    "input_str = \"100\"\n",
    "item_for_search = int(input_str)\n",
    "if item_for_search in item_values:\n",
    "    title = get_titles([item_for_search], items)\n",
    "    print(\"Item title:\")\n",
    "    print(title.title)\n",
    "    nearest_item = nearest(int(item_for_search),\n",
    "                           item_embeddings, search_graph_item, n_recommends)\n",
    "    answer = get_titles(nearest_item, items)\n",
    "    print(\"Recommendations:\")\n",
    "    print(answer)\n",
    "else:\n",
    "    print(\"Sorry, item_id =\" + \" {\" + input_str + \"} \" + \"not found\")"
   ]
  },
  {
   "cell_type": "code",
   "execution_count": null,
   "metadata": {
    "id": "k2E_uKGyHiWP",
    "outputId": "ff9df80e-7661-413f-c1ea-56385e53f29b"
   },
   "outputs": [],
   "source": [
    "def find_best_items(user_id):\n",
    "    best_items = np.array([])\n",
    "    if user_id in exist_users:\n",
    "        # only good marks (4, 5)\n",
    "        temp = train[(train['userid'] == user_id) & (\n",
    "            train['overall'].isin([5.0, 4.0]))]\n",
    "        best_items = temp.sort_values(by=['overall'], ascending=False)[\n",
    "            'itemid'].values[:best_n]\n",
    "        # if we need more (did not find all of <best_n> items for current user)\n",
    "        if len(best_items) < best_n:\n",
    "            add = best_n - len(best_items)\n",
    "            # find nearest users for current\n",
    "            near_users = nearest(user_id, user_embeddings, search_graph_user)\n",
    "            for user in near_users:\n",
    "                temp = train[(train['userid'] == user) & (\n",
    "                    train['overall'].isin([5.0, 4.0]))]\n",
    "                temp_best = temp.sort_values(by=['overall'], ascending=False)[\n",
    "                    'itemid'].values[:add]\n",
    "                best_items = np.concatenate((best_items, temp_best))\n",
    "                add = best_n - len(best_items)\n",
    "                if len(best_items) == best_n:\n",
    "                    return best_items\n",
    "    return best_items\n",
    "\n",
    "\n",
    "def find_recommend_items(best_items):\n",
    "    recommend_items = set()\n",
    "    list_items = []\n",
    "    # if found any best items for user, build a recommend list\n",
    "    if (len(best_items) <= best_n) and (len(best_items) > 0):\n",
    "        for item in best_items:\n",
    "            recommend_items.update(\n",
    "                nearest(item, item_embeddings, search_graph_item))\n",
    "            list_items = list(recommend_items)\n",
    "            if len(list_items) >= n_recommends:\n",
    "                list_items = list_items[0:n_recommends]\n",
    "                break\n",
    "    # if we need more recommendations, take items with good aver\n",
    "    # marks and lot of reviews (popular)\n",
    "    if len(list_items) != n_recommends:\n",
    "        most_popular_items = items[(items.aver_mark > 4.5)\n",
    "                                   & (items.Reviews > items['Reviews'].quantile(0.99))]\n",
    "    # add random recommendation in recommendation list from popular\n",
    "    while len(list_items) < n_recommends:\n",
    "        pop_id = most_popular_items.sample(10).item_id.values\n",
    "        for idx in pop_id:\n",
    "            if idx not in list_items:\n",
    "                list_items.append(idx)\n",
    "\n",
    "    return list_items[0:n_recommends]\n",
    "\n",
    "\n",
    "def find_popular_items():\n",
    "    list_items = []\n",
    "    most_popular_items = items[(items.aver_mark > 4.5)\n",
    "                               & (items.Reviews > items['Reviews'].quantile(0.99))]\n",
    "    # add random recommendation in recommendation list from popular\n",
    "    while len(list_items) < n_recommends:\n",
    "        pop_id = most_popular_items.sample(n_recommends).item_id.values\n",
    "        for idx in pop_id:\n",
    "            if idx not in list_items:\n",
    "                list_items.append(idx)\n",
    "    return list_items[0:n_recommends]\n",
    "\n",
    "\n",
    "best_n = 3\n",
    "item_embeddings = load_embeddings('user_embeddings.pkl')\n",
    "items = load_items()\n",
    "search_graph_user = nmslib.init()\n",
    "search_graph_user.loadIndex(\"user_graph.hnsw\")\n",
    "\n",
    "exist_users = train['userid'].unique()\n",
    "input_str = \"101\"\n",
    "user_for_recommend = int(input_str)\n",
    "\n",
    "if user_for_recommend in exist_users:\n",
    "    best_items = find_best_items(user_for_recommend)\n",
    "    list_items = find_recommend_items(best_items)\n",
    "else:\n",
    "    list_items = find_popular_items()\n",
    "answer = get_titles(list_items, items)\n",
    "print(\"Recommendations: \")\n",
    "print(answer)"
   ]
  },
  {
   "cell_type": "markdown",
   "metadata": {
    "id": "wPBsbf5sHiWQ"
   },
   "source": [
    "### Выводы\n",
    "\n",
    "написан код, дающий рекомендации как к item_id, так и к user_id. Построен прототип с использованием сервиса heroku."
   ]
  },
  {
   "cell_type": "code",
   "execution_count": null,
   "metadata": {
    "executionInfo": {
     "elapsed": 2243,
     "status": "error",
     "timestamp": 1610257777746,
     "user": {
      "displayName": "Станислав Невежин",
      "photoUrl": "https://lh3.googleusercontent.com/a-/AOh14GjqIeVzf6wNdrqqY85llUoQjqZ0KF5rpxMmUlH4=s64",
      "userId": "14005767866587588160"
     },
     "user_tz": -180
    },
    "id": "RtumM33BHiWQ",
    "outputId": "9733ff1a-dc8a-417d-d9ee-e60c02d6d475"
   },
   "outputs": [],
   "source": [
    "import streamlit as st\n",
    "import pandas as pd\n",
    "import numpy as np\n",
    "import lightfm\n",
    "import nmslib\n",
    "import pickle\n",
    "import scipy.sparse as sparse\n",
    "\n",
    "\n",
    "def get_titles(items_list, items):\n",
    "    result = pd.DataFrame(items[items.item_id.isin(items_list)].title)\n",
    "    result.index = [i + 1 for i in range(len(items_list))]\n",
    "    return result\n",
    "\n",
    "\n",
    "def nearest(id, embeddings, graph, n=5):\n",
    "    # n+1 because id includes in nearest list too\n",
    "    return graph.knnQuery(embeddings[id], k=n+1)[0][1:]\n",
    "\n",
    "\n",
    "@st.cache(suppress_st_warning=True)\n",
    "def load_embeddings(name):\n",
    "    # load embeddings\n",
    "    with open(name, 'rb') as file:\n",
    "        embeddings = pickle.load(file)\n",
    "        file.close()\n",
    "    return embeddings\n",
    "\n",
    "\n",
    "@st.cache(suppress_st_warning=True)\n",
    "def load_items():\n",
    "    # load items\n",
    "    return pd.read_csv('items.csv')\n",
    "\n",
    "\n",
    "item_embeddings = load_embeddings('item_embeddings.pkl')\n",
    "items = load_items()\n",
    "search_graph_item = nmslib.init()\n",
    "search_graph_item.loadIndex(\"item_graph.hnsw\")\n",
    "\n",
    "# number of recommendations\n",
    "n_recommends = 10\n",
    "\n",
    "# find nearest items\n",
    "st.title(\"Recommender for items\")\n",
    "item_values = list(items.item_id)\n",
    "input_str = st.text_input('Item_id (0 - 41319)', '100')\n",
    "item_for_search = int(input_str)\n",
    "if item_for_search in item_values:\n",
    "    title = get_titles([item_for_search], items)\n",
    "    st.write(\"Item title:\")\n",
    "    st.write(title.title)\n",
    "    nearest_item = nearest(int(item_for_search),\n",
    "                           item_embeddings, search_graph_item, n_recommends)\n",
    "    answer = get_titles(nearest_item, items)\n",
    "    \"Recommendations: \"\n",
    "    st.write(answer)\n",
    "else:\n",
    "    st.write(\"Sorry, item_id =\" + \" {\" + input_str + \"} \" + \"not found\")"
   ]
  }
 ],
 "metadata": {
  "kernelspec": {
   "display_name": "Python 3",
   "language": "python",
   "name": "python3"
  },
  "language_info": {
   "codemirror_mode": {
    "name": "ipython",
    "version": 3
   },
   "file_extension": ".py",
   "mimetype": "text/x-python",
   "name": "python",
   "nbconvert_exporter": "python",
   "pygments_lexer": "ipython3",
   "version": "3.7.9"
  }
 },
 "nbformat": 4,
 "nbformat_minor": 4
}
