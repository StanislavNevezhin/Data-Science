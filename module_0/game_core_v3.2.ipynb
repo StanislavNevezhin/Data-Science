{
 "cells": [
  {
   "cell_type": "code",
   "execution_count": 2,
   "metadata": {},
   "outputs": [
    {
     "name": "stdout",
     "output_type": "stream",
     "text": [
      "Ваш алгоритм угадывает число в среднем за 101 попыток\n",
      "Ваш алгоритм угадывает число в среднем за 8 попыток\n"
     ]
    },
    {
     "data": {
      "text/plain": [
       "8"
      ]
     },
     "execution_count": 2,
     "metadata": {},
     "output_type": "execute_result"
    }
   ],
   "source": [
    "import numpy as np\n",
    "def game_core_v1(number):\n",
    "    '''Просто угадываем на random, никак не используя информацию о больше или меньше.\n",
    "       Функция принимает загаданное число и возвращает число попыток'''\n",
    "    count = 0\n",
    "    while True:\n",
    "        count+=1\n",
    "        predict = np.random.randint(1,101) # предполагаемое число\n",
    "        if number == predict: \n",
    "            return(count) # выход из цикла, если угадали\n",
    "def score_game(game_core):\n",
    "    '''Запускаем игру 1000 раз, чтобы узнать, как быстро игра угадывает число'''\n",
    "    count_ls = []\n",
    "    np.random.seed(1)  # фиксируем RANDOM SEED, чтобы ваш эксперимент был воспроизводим!\n",
    "    random_array = np.random.randint(1,101, size=(1000))\n",
    "    for number in random_array:\n",
    "        count_ls.append(game_core(number))\n",
    "    score = int(np.mean(count_ls))\n",
    "    print(f\"Ваш алгоритм угадывает число в среднем за {score} попыток\")\n",
    "    return(score)\n",
    "# запускаем\n",
    "score_game(game_core_v1)\n",
    "\n",
    "import random\n",
    "def game_core_v3(number):\n",
    "    '''Function for prediction hidden number from the range 1...100.\n",
    "        The function gets a hidden number and returns the number of attempts for his prediction.'''\n",
    "    start_range = 0\n",
    "    end_range = 100\n",
    "    count = 0\n",
    "    predict = (start_range + end_range)//2 #set the predicted number from the middle of the range\n",
    "    while number != predict:\n",
    "        count += 1\n",
    "        if number > predict:\n",
    "            start_range = predict #set start of the range for predicted number, larger than the desired one       \n",
    "        elif number < predict:\n",
    "            end_range = predict #set end of the range for predicted number, smaller than the desired one  \n",
    "        predict = random.randint (start_range, end_range) #get predicted number from the new range using random method\n",
    "    return(count) # end of the loop for hidden number\n",
    "# Check out\n",
    "score_game(game_core_v3)"
   ]
  },
  {
   "cell_type": "code",
   "execution_count": null,
   "metadata": {},
   "outputs": [],
   "source": []
  }
 ],
 "metadata": {
  "kernelspec": {
   "display_name": "Python 3",
   "language": "python",
   "name": "python3"
  },
  "language_info": {
   "codemirror_mode": {
    "name": "ipython",
    "version": 3
   },
   "file_extension": ".py",
   "mimetype": "text/x-python",
   "name": "python",
   "nbconvert_exporter": "python",
   "pygments_lexer": "ipython3",
   "version": "3.7.6"
  }
 },
 "nbformat": 4,
 "nbformat_minor": 4
}
